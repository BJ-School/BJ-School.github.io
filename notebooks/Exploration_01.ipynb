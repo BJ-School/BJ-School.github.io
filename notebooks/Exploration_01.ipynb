{
  "cells": [
    {
      "cell_type": "markdown",
      "metadata": {
        "id": "LB9TN5GKEyhw"
      },
      "source": [
        "# Data Exploration 01\n",
        "\n",
        "A consumer watchdog group wants to see if Netflix has more movies for adults or children.\n",
        "\n",
        "Using a dataset containing metadata for all of the movies Netflix had available on their platform in 2019, we'll use the MPAA movie rating system to determine if they are correct.\n",
        "\n",
        "## MPAA Movie Ratings:\n",
        "* G: All ages admitted.\n",
        "* PG: Some material may not be suitable for children.\n",
        "* PG-13: Some material may be inappropriate for children under 13.\n",
        "* R: Under 17 requires accompanying parent or adult guardian\n",
        "* NC-17: No One 17 and Under Admitted\n",
        "\n",
        "Most people would consider G and PG as ratings suitable for children. However, not everyone would agree that a PG-13 movie is necssarily a children's movie. It is up to you to decide how to handle this."
      ]
    },
    {
      "cell_type": "markdown",
      "metadata": {
        "id": "agqlq8RKFbry"
      },
      "source": [
        "## Part 1: Import Pandas\n",
        "\n",
        "The `pandas library` is a python library used for data analysis and manipulation. It will provide the core functionality for most of what you do in the data exploration and preprocessing stages of most machine learning projects.\n",
        "\n",
        "Please see [this Getting Started Guide](https://pandas.pydata.org/docs/getting_started/intro_tutorials/01_table_oriented.html) for information on the conventional way to import Pandas into your project, as well as other helpful tips for common Pandas tasks.\n"
      ]
    },
    {
      "cell_type": "code",
      "execution_count": 1,
      "metadata": {
        "id": "14b9y6LKEvEm",
        "vscode": {
          "languageId": "python"
        }
      },
      "outputs": [],
      "source": [
        "# Part 1: Enter the code below to import Pandas according to the\n",
        "# conventional method.\n",
        "import pandas as pd\n"
      ]
    },
    {
      "cell_type": "markdown",
      "metadata": {
        "id": "q-O80D5JH9yA"
      },
      "source": [
        "## Part 2: Load the data\n",
        "\n",
        "The dataset for this exploration is stored at the following url:\n",
        "\n",
        "[https://raw.githubusercontent.com/byui-cse/cse450-course/master/data/netflix_titles.csv](https://raw.githubusercontent.com/byui-cse/cse450-course/master/data/netflix_titles.csv)\n",
        "\n",
        "There are lots of ways to load data into your workspace. The easiest way in this case is to [ask Pandas to do it for you](https://pandas.pydata.org/docs/getting_started/intro_tutorials/02_read_write.html).\n",
        "\n",
        "### Initial Data Analysis\n",
        "Once you've loaded the data, it's a good idea to poke around a little bit to find out what you're dealing with.\n",
        "\n",
        "Some questions you might ask include:\n",
        "\n",
        "* What does the data look like?\n",
        "* What kind of data is in each column?\n",
        "* Do any of the columns have missing values?"
      ]
    },
    {
      "cell_type": "code",
      "execution_count": 2,
      "metadata": {
        "id": "AMKxXySGJVnC",
        "vscode": {
          "languageId": "python"
        }
      },
      "outputs": [],
      "source": [
        "# Part 2: Load the dataset into a Pandas dataframe.\n",
        "dataSource = \"https://raw.githubusercontent.com/byui-cse/cse450-course/master/data/netflix_titles.csv\"\n",
        "theData = pd.read_csv(dataSource)"
      ]
    },
    {
      "cell_type": "code",
      "execution_count": 13,
      "metadata": {
        "id": "1TFtbTIVAYJ-",
        "vscode": {
          "languageId": "python"
        },
        "colab": {
          "base_uri": "https://localhost:8080/",
          "height": 605
        },
        "outputId": "d4d8842a-c082-4129-8289-99c2cf7a3b5d"
      },
      "outputs": [
        {
          "output_type": "execute_result",
          "data": {
            "text/plain": [
              "    show_id     type                                    title  \\\n",
              "0  81145628    Movie  Norm of the North: King Sized Adventure   \n",
              "1  80117401    Movie               Jandino: Whatever it Takes   \n",
              "2  70234439  TV Show                       Transformers Prime   \n",
              "3  80058654  TV Show         Transformers: Robots in Disguise   \n",
              "4  80125979    Movie                             #realityhigh   \n",
              "\n",
              "                   director  \\\n",
              "0  Richard Finn, Tim Maltby   \n",
              "1                       NaN   \n",
              "2                       NaN   \n",
              "3                       NaN   \n",
              "4          Fernando Lebrija   \n",
              "\n",
              "                                                cast  \\\n",
              "0  Alan Marriott, Andrew Toth, Brian Dobson, Cole...   \n",
              "1                                   Jandino Asporaat   \n",
              "2  Peter Cullen, Sumalee Montano, Frank Welker, J...   \n",
              "3  Will Friedle, Darren Criss, Constance Zimmer, ...   \n",
              "4  Nesta Cooper, Kate Walsh, John Michael Higgins...   \n",
              "\n",
              "                                    country         date_added  release_year  \\\n",
              "0  United States, India, South Korea, China  September 9, 2019          2019   \n",
              "1                            United Kingdom  September 9, 2016          2016   \n",
              "2                             United States  September 8, 2018          2013   \n",
              "3                             United States  September 8, 2018          2016   \n",
              "4                             United States  September 8, 2017          2017   \n",
              "\n",
              "     rating  duration                           listed_in  \\\n",
              "0     TV-PG    90 min  Children & Family Movies, Comedies   \n",
              "1     TV-MA    94 min                     Stand-Up Comedy   \n",
              "2  TV-Y7-FV  1 Season                            Kids' TV   \n",
              "3     TV-Y7  1 Season                            Kids' TV   \n",
              "4     TV-14    99 min                            Comedies   \n",
              "\n",
              "                                         description  \n",
              "0  Before planning an awesome wedding for his gra...  \n",
              "1  Jandino Asporaat riffs on the challenges of ra...  \n",
              "2  With the help of three human allies, the Autob...  \n",
              "3  When a prison ship crash unleashes hundreds of...  \n",
              "4  When nerdy high schooler Dani finally attracts...  "
            ],
            "text/html": [
              "\n",
              "  <div id=\"df-680bea51-eff4-446e-9c02-6d43c06ad2a2\" class=\"colab-df-container\">\n",
              "    <div>\n",
              "<style scoped>\n",
              "    .dataframe tbody tr th:only-of-type {\n",
              "        vertical-align: middle;\n",
              "    }\n",
              "\n",
              "    .dataframe tbody tr th {\n",
              "        vertical-align: top;\n",
              "    }\n",
              "\n",
              "    .dataframe thead th {\n",
              "        text-align: right;\n",
              "    }\n",
              "</style>\n",
              "<table border=\"1\" class=\"dataframe\">\n",
              "  <thead>\n",
              "    <tr style=\"text-align: right;\">\n",
              "      <th></th>\n",
              "      <th>show_id</th>\n",
              "      <th>type</th>\n",
              "      <th>title</th>\n",
              "      <th>director</th>\n",
              "      <th>cast</th>\n",
              "      <th>country</th>\n",
              "      <th>date_added</th>\n",
              "      <th>release_year</th>\n",
              "      <th>rating</th>\n",
              "      <th>duration</th>\n",
              "      <th>listed_in</th>\n",
              "      <th>description</th>\n",
              "    </tr>\n",
              "  </thead>\n",
              "  <tbody>\n",
              "    <tr>\n",
              "      <th>0</th>\n",
              "      <td>81145628</td>\n",
              "      <td>Movie</td>\n",
              "      <td>Norm of the North: King Sized Adventure</td>\n",
              "      <td>Richard Finn, Tim Maltby</td>\n",
              "      <td>Alan Marriott, Andrew Toth, Brian Dobson, Cole...</td>\n",
              "      <td>United States, India, South Korea, China</td>\n",
              "      <td>September 9, 2019</td>\n",
              "      <td>2019</td>\n",
              "      <td>TV-PG</td>\n",
              "      <td>90 min</td>\n",
              "      <td>Children &amp; Family Movies, Comedies</td>\n",
              "      <td>Before planning an awesome wedding for his gra...</td>\n",
              "    </tr>\n",
              "    <tr>\n",
              "      <th>1</th>\n",
              "      <td>80117401</td>\n",
              "      <td>Movie</td>\n",
              "      <td>Jandino: Whatever it Takes</td>\n",
              "      <td>NaN</td>\n",
              "      <td>Jandino Asporaat</td>\n",
              "      <td>United Kingdom</td>\n",
              "      <td>September 9, 2016</td>\n",
              "      <td>2016</td>\n",
              "      <td>TV-MA</td>\n",
              "      <td>94 min</td>\n",
              "      <td>Stand-Up Comedy</td>\n",
              "      <td>Jandino Asporaat riffs on the challenges of ra...</td>\n",
              "    </tr>\n",
              "    <tr>\n",
              "      <th>2</th>\n",
              "      <td>70234439</td>\n",
              "      <td>TV Show</td>\n",
              "      <td>Transformers Prime</td>\n",
              "      <td>NaN</td>\n",
              "      <td>Peter Cullen, Sumalee Montano, Frank Welker, J...</td>\n",
              "      <td>United States</td>\n",
              "      <td>September 8, 2018</td>\n",
              "      <td>2013</td>\n",
              "      <td>TV-Y7-FV</td>\n",
              "      <td>1 Season</td>\n",
              "      <td>Kids' TV</td>\n",
              "      <td>With the help of three human allies, the Autob...</td>\n",
              "    </tr>\n",
              "    <tr>\n",
              "      <th>3</th>\n",
              "      <td>80058654</td>\n",
              "      <td>TV Show</td>\n",
              "      <td>Transformers: Robots in Disguise</td>\n",
              "      <td>NaN</td>\n",
              "      <td>Will Friedle, Darren Criss, Constance Zimmer, ...</td>\n",
              "      <td>United States</td>\n",
              "      <td>September 8, 2018</td>\n",
              "      <td>2016</td>\n",
              "      <td>TV-Y7</td>\n",
              "      <td>1 Season</td>\n",
              "      <td>Kids' TV</td>\n",
              "      <td>When a prison ship crash unleashes hundreds of...</td>\n",
              "    </tr>\n",
              "    <tr>\n",
              "      <th>4</th>\n",
              "      <td>80125979</td>\n",
              "      <td>Movie</td>\n",
              "      <td>#realityhigh</td>\n",
              "      <td>Fernando Lebrija</td>\n",
              "      <td>Nesta Cooper, Kate Walsh, John Michael Higgins...</td>\n",
              "      <td>United States</td>\n",
              "      <td>September 8, 2017</td>\n",
              "      <td>2017</td>\n",
              "      <td>TV-14</td>\n",
              "      <td>99 min</td>\n",
              "      <td>Comedies</td>\n",
              "      <td>When nerdy high schooler Dani finally attracts...</td>\n",
              "    </tr>\n",
              "  </tbody>\n",
              "</table>\n",
              "</div>\n",
              "    <div class=\"colab-df-buttons\">\n",
              "\n",
              "  <div class=\"colab-df-container\">\n",
              "    <button class=\"colab-df-convert\" onclick=\"convertToInteractive('df-680bea51-eff4-446e-9c02-6d43c06ad2a2')\"\n",
              "            title=\"Convert this dataframe to an interactive table.\"\n",
              "            style=\"display:none;\">\n",
              "\n",
              "  <svg xmlns=\"http://www.w3.org/2000/svg\" height=\"24px\" viewBox=\"0 -960 960 960\">\n",
              "    <path d=\"M120-120v-720h720v720H120Zm60-500h600v-160H180v160Zm220 220h160v-160H400v160Zm0 220h160v-160H400v160ZM180-400h160v-160H180v160Zm440 0h160v-160H620v160ZM180-180h160v-160H180v160Zm440 0h160v-160H620v160Z\"/>\n",
              "  </svg>\n",
              "    </button>\n",
              "\n",
              "  <style>\n",
              "    .colab-df-container {\n",
              "      display:flex;\n",
              "      gap: 12px;\n",
              "    }\n",
              "\n",
              "    .colab-df-convert {\n",
              "      background-color: #E8F0FE;\n",
              "      border: none;\n",
              "      border-radius: 50%;\n",
              "      cursor: pointer;\n",
              "      display: none;\n",
              "      fill: #1967D2;\n",
              "      height: 32px;\n",
              "      padding: 0 0 0 0;\n",
              "      width: 32px;\n",
              "    }\n",
              "\n",
              "    .colab-df-convert:hover {\n",
              "      background-color: #E2EBFA;\n",
              "      box-shadow: 0px 1px 2px rgba(60, 64, 67, 0.3), 0px 1px 3px 1px rgba(60, 64, 67, 0.15);\n",
              "      fill: #174EA6;\n",
              "    }\n",
              "\n",
              "    .colab-df-buttons div {\n",
              "      margin-bottom: 4px;\n",
              "    }\n",
              "\n",
              "    [theme=dark] .colab-df-convert {\n",
              "      background-color: #3B4455;\n",
              "      fill: #D2E3FC;\n",
              "    }\n",
              "\n",
              "    [theme=dark] .colab-df-convert:hover {\n",
              "      background-color: #434B5C;\n",
              "      box-shadow: 0px 1px 3px 1px rgba(0, 0, 0, 0.15);\n",
              "      filter: drop-shadow(0px 1px 2px rgba(0, 0, 0, 0.3));\n",
              "      fill: #FFFFFF;\n",
              "    }\n",
              "  </style>\n",
              "\n",
              "    <script>\n",
              "      const buttonEl =\n",
              "        document.querySelector('#df-680bea51-eff4-446e-9c02-6d43c06ad2a2 button.colab-df-convert');\n",
              "      buttonEl.style.display =\n",
              "        google.colab.kernel.accessAllowed ? 'block' : 'none';\n",
              "\n",
              "      async function convertToInteractive(key) {\n",
              "        const element = document.querySelector('#df-680bea51-eff4-446e-9c02-6d43c06ad2a2');\n",
              "        const dataTable =\n",
              "          await google.colab.kernel.invokeFunction('convertToInteractive',\n",
              "                                                    [key], {});\n",
              "        if (!dataTable) return;\n",
              "\n",
              "        const docLinkHtml = 'Like what you see? Visit the ' +\n",
              "          '<a target=\"_blank\" href=https://colab.research.google.com/notebooks/data_table.ipynb>data table notebook</a>'\n",
              "          + ' to learn more about interactive tables.';\n",
              "        element.innerHTML = '';\n",
              "        dataTable['output_type'] = 'display_data';\n",
              "        await google.colab.output.renderOutput(dataTable, element);\n",
              "        const docLink = document.createElement('div');\n",
              "        docLink.innerHTML = docLinkHtml;\n",
              "        element.appendChild(docLink);\n",
              "      }\n",
              "    </script>\n",
              "  </div>\n",
              "\n",
              "\n",
              "    <div id=\"df-b0d07516-75f9-41d7-9ef8-dbe46c5e21ee\">\n",
              "      <button class=\"colab-df-quickchart\" onclick=\"quickchart('df-b0d07516-75f9-41d7-9ef8-dbe46c5e21ee')\"\n",
              "                title=\"Suggest charts\"\n",
              "                style=\"display:none;\">\n",
              "\n",
              "<svg xmlns=\"http://www.w3.org/2000/svg\" height=\"24px\"viewBox=\"0 0 24 24\"\n",
              "     width=\"24px\">\n",
              "    <g>\n",
              "        <path d=\"M19 3H5c-1.1 0-2 .9-2 2v14c0 1.1.9 2 2 2h14c1.1 0 2-.9 2-2V5c0-1.1-.9-2-2-2zM9 17H7v-7h2v7zm4 0h-2V7h2v10zm4 0h-2v-4h2v4z\"/>\n",
              "    </g>\n",
              "</svg>\n",
              "      </button>\n",
              "\n",
              "<style>\n",
              "  .colab-df-quickchart {\n",
              "      --bg-color: #E8F0FE;\n",
              "      --fill-color: #1967D2;\n",
              "      --hover-bg-color: #E2EBFA;\n",
              "      --hover-fill-color: #174EA6;\n",
              "      --disabled-fill-color: #AAA;\n",
              "      --disabled-bg-color: #DDD;\n",
              "  }\n",
              "\n",
              "  [theme=dark] .colab-df-quickchart {\n",
              "      --bg-color: #3B4455;\n",
              "      --fill-color: #D2E3FC;\n",
              "      --hover-bg-color: #434B5C;\n",
              "      --hover-fill-color: #FFFFFF;\n",
              "      --disabled-bg-color: #3B4455;\n",
              "      --disabled-fill-color: #666;\n",
              "  }\n",
              "\n",
              "  .colab-df-quickchart {\n",
              "    background-color: var(--bg-color);\n",
              "    border: none;\n",
              "    border-radius: 50%;\n",
              "    cursor: pointer;\n",
              "    display: none;\n",
              "    fill: var(--fill-color);\n",
              "    height: 32px;\n",
              "    padding: 0;\n",
              "    width: 32px;\n",
              "  }\n",
              "\n",
              "  .colab-df-quickchart:hover {\n",
              "    background-color: var(--hover-bg-color);\n",
              "    box-shadow: 0 1px 2px rgba(60, 64, 67, 0.3), 0 1px 3px 1px rgba(60, 64, 67, 0.15);\n",
              "    fill: var(--button-hover-fill-color);\n",
              "  }\n",
              "\n",
              "  .colab-df-quickchart-complete:disabled,\n",
              "  .colab-df-quickchart-complete:disabled:hover {\n",
              "    background-color: var(--disabled-bg-color);\n",
              "    fill: var(--disabled-fill-color);\n",
              "    box-shadow: none;\n",
              "  }\n",
              "\n",
              "  .colab-df-spinner {\n",
              "    border: 2px solid var(--fill-color);\n",
              "    border-color: transparent;\n",
              "    border-bottom-color: var(--fill-color);\n",
              "    animation:\n",
              "      spin 1s steps(1) infinite;\n",
              "  }\n",
              "\n",
              "  @keyframes spin {\n",
              "    0% {\n",
              "      border-color: transparent;\n",
              "      border-bottom-color: var(--fill-color);\n",
              "      border-left-color: var(--fill-color);\n",
              "    }\n",
              "    20% {\n",
              "      border-color: transparent;\n",
              "      border-left-color: var(--fill-color);\n",
              "      border-top-color: var(--fill-color);\n",
              "    }\n",
              "    30% {\n",
              "      border-color: transparent;\n",
              "      border-left-color: var(--fill-color);\n",
              "      border-top-color: var(--fill-color);\n",
              "      border-right-color: var(--fill-color);\n",
              "    }\n",
              "    40% {\n",
              "      border-color: transparent;\n",
              "      border-right-color: var(--fill-color);\n",
              "      border-top-color: var(--fill-color);\n",
              "    }\n",
              "    60% {\n",
              "      border-color: transparent;\n",
              "      border-right-color: var(--fill-color);\n",
              "    }\n",
              "    80% {\n",
              "      border-color: transparent;\n",
              "      border-right-color: var(--fill-color);\n",
              "      border-bottom-color: var(--fill-color);\n",
              "    }\n",
              "    90% {\n",
              "      border-color: transparent;\n",
              "      border-bottom-color: var(--fill-color);\n",
              "    }\n",
              "  }\n",
              "</style>\n",
              "\n",
              "      <script>\n",
              "        async function quickchart(key) {\n",
              "          const quickchartButtonEl =\n",
              "            document.querySelector('#' + key + ' button');\n",
              "          quickchartButtonEl.disabled = true;  // To prevent multiple clicks.\n",
              "          quickchartButtonEl.classList.add('colab-df-spinner');\n",
              "          try {\n",
              "            const charts = await google.colab.kernel.invokeFunction(\n",
              "                'suggestCharts', [key], {});\n",
              "          } catch (error) {\n",
              "            console.error('Error during call to suggestCharts:', error);\n",
              "          }\n",
              "          quickchartButtonEl.classList.remove('colab-df-spinner');\n",
              "          quickchartButtonEl.classList.add('colab-df-quickchart-complete');\n",
              "        }\n",
              "        (() => {\n",
              "          let quickchartButtonEl =\n",
              "            document.querySelector('#df-b0d07516-75f9-41d7-9ef8-dbe46c5e21ee button');\n",
              "          quickchartButtonEl.style.display =\n",
              "            google.colab.kernel.accessAllowed ? 'block' : 'none';\n",
              "        })();\n",
              "      </script>\n",
              "    </div>\n",
              "\n",
              "    </div>\n",
              "  </div>\n"
            ],
            "application/vnd.google.colaboratory.intrinsic+json": {
              "type": "dataframe",
              "variable_name": "theData",
              "summary": "{\n  \"name\": \"theData\",\n  \"rows\": 6234,\n  \"fields\": [\n    {\n      \"column\": \"show_id\",\n      \"properties\": {\n        \"dtype\": \"number\",\n        \"std\": 10942964,\n        \"min\": 247747,\n        \"max\": 81235729,\n        \"num_unique_values\": 6234,\n        \"samples\": [\n          81025317,\n          80184422,\n          80232914\n        ],\n        \"semantic_type\": \"\",\n        \"description\": \"\"\n      }\n    },\n    {\n      \"column\": \"type\",\n      \"properties\": {\n        \"dtype\": \"category\",\n        \"num_unique_values\": 2,\n        \"samples\": [\n          \"TV Show\",\n          \"Movie\"\n        ],\n        \"semantic_type\": \"\",\n        \"description\": \"\"\n      }\n    },\n    {\n      \"column\": \"title\",\n      \"properties\": {\n        \"dtype\": \"string\",\n        \"num_unique_values\": 6172,\n        \"samples\": [\n          \"Hulk Vs.\",\n          \"Khan: No. 1 Crime Hunter\"\n        ],\n        \"semantic_type\": \"\",\n        \"description\": \"\"\n      }\n    },\n    {\n      \"column\": \"director\",\n      \"properties\": {\n        \"dtype\": \"string\",\n        \"num_unique_values\": 3301,\n        \"samples\": [\n          \"Jacob LaMendola\",\n          \"Marita Grabiak\"\n        ],\n        \"semantic_type\": \"\",\n        \"description\": \"\"\n      }\n    },\n    {\n      \"column\": \"cast\",\n      \"properties\": {\n        \"dtype\": \"string\",\n        \"num_unique_values\": 5469,\n        \"samples\": [\n          \"Mick Rock\",\n          \"Dakore Akande, Ireti Doyle, Nse Ikpe-Etim, Omoni Oboli\"\n        ],\n        \"semantic_type\": \"\",\n        \"description\": \"\"\n      }\n    },\n    {\n      \"column\": \"country\",\n      \"properties\": {\n        \"dtype\": \"category\",\n        \"num_unique_values\": 554,\n        \"samples\": [\n          \"Switzerland\",\n          \"Argentina\"\n        ],\n        \"semantic_type\": \"\",\n        \"description\": \"\"\n      }\n    },\n    {\n      \"column\": \"date_added\",\n      \"properties\": {\n        \"dtype\": \"category\",\n        \"num_unique_values\": 1524,\n        \"samples\": [\n          \"February 24, 2016\",\n          \"September 14, 2019\"\n        ],\n        \"semantic_type\": \"\",\n        \"description\": \"\"\n      }\n    },\n    {\n      \"column\": \"release_year\",\n      \"properties\": {\n        \"dtype\": \"number\",\n        \"std\": 8,\n        \"min\": 1925,\n        \"max\": 2020,\n        \"num_unique_values\": 72,\n        \"samples\": [\n          2014,\n          1944\n        ],\n        \"semantic_type\": \"\",\n        \"description\": \"\"\n      }\n    },\n    {\n      \"column\": \"rating\",\n      \"properties\": {\n        \"dtype\": \"category\",\n        \"num_unique_values\": 14,\n        \"samples\": [\n          \"TV-G\",\n          \"G\"\n        ],\n        \"semantic_type\": \"\",\n        \"description\": \"\"\n      }\n    },\n    {\n      \"column\": \"duration\",\n      \"properties\": {\n        \"dtype\": \"category\",\n        \"num_unique_values\": 201,\n        \"samples\": [\n          \"151 min\",\n          \"79 min\"\n        ],\n        \"semantic_type\": \"\",\n        \"description\": \"\"\n      }\n    },\n    {\n      \"column\": \"listed_in\",\n      \"properties\": {\n        \"dtype\": \"category\",\n        \"num_unique_values\": 461,\n        \"samples\": [\n          \"Action & Adventure, Independent Movies, Sci-Fi & Fantasy\",\n          \"Comedies, Dramas, International Movies\"\n        ],\n        \"semantic_type\": \"\",\n        \"description\": \"\"\n      }\n    },\n    {\n      \"column\": \"description\",\n      \"properties\": {\n        \"dtype\": \"string\",\n        \"num_unique_values\": 6226,\n        \"samples\": [\n          \"Learning that her father has married a woman her own age, Kanaya leaves home, only to get into an accident that lands her in a haunted hospital.\",\n          \"Born with supernatural strength, Bong-soon fights evil and procures justice while getting tangled in a love triangle with her CEO boss and cop crush.\"\n        ],\n        \"semantic_type\": \"\",\n        \"description\": \"\"\n      }\n    }\n  ]\n}"
            }
          },
          "metadata": {},
          "execution_count": 13
        }
      ],
      "source": [
        "# Then, explore the data by seeing what the first few rows look like.\n",
        "theData.head(5)"
      ]
    },
    {
      "cell_type": "code",
      "execution_count": 19,
      "metadata": {
        "id": "GcL5zb6kAYc7",
        "vscode": {
          "languageId": "python"
        },
        "colab": {
          "base_uri": "https://localhost:8080/"
        },
        "outputId": "8c2151a6-b76a-4c21-de6e-d7d5acb04798"
      },
      "outputs": [
        {
          "output_type": "stream",
          "name": "stdout",
          "text": [
            "<class 'pandas.core.frame.DataFrame'>\n",
            "RangeIndex: 6234 entries, 0 to 6233\n",
            "Data columns (total 12 columns):\n",
            " #   Column        Non-Null Count  Dtype \n",
            "---  ------        --------------  ----- \n",
            " 0   show_id       6234 non-null   int64 \n",
            " 1   type          6234 non-null   object\n",
            " 2   title         6234 non-null   object\n",
            " 3   director      4265 non-null   object\n",
            " 4   cast          5664 non-null   object\n",
            " 5   country       5758 non-null   object\n",
            " 6   date_added    6223 non-null   object\n",
            " 7   release_year  6234 non-null   int64 \n",
            " 8   rating        6224 non-null   object\n",
            " 9   duration      6234 non-null   object\n",
            " 10  listed_in     6234 non-null   object\n",
            " 11  description   6234 non-null   object\n",
            "dtypes: int64(2), object(10)\n",
            "memory usage: 584.6+ KB\n"
          ]
        }
      ],
      "source": [
        "# Next, display a technical summary of the data to determine the data types of each column, and which columns have missing data.\n",
        "theData.info()"
      ]
    },
    {
      "cell_type": "markdown",
      "metadata": {
        "id": "CqdAa4EfJ9T0"
      },
      "source": [
        "## Part 3: Filter the Data\n",
        "\n",
        "Since we're just interested in movies, we'll need to [filter out anything](https://pandas.pydata.org/docs/getting_started/intro_tutorials/03_subset_data.html) that isn't a movie for our analysis. The `type` feature contains this information.\n",
        "\n",
        "Once we have the subset, we should see how many rows it contains. There are a [variety of ways to get the length of a data frame](https://stackoverflow.com/a/38025280/28106)."
      ]
    },
    {
      "cell_type": "code",
      "execution_count": 33,
      "metadata": {
        "id": "i8wdC-qpPjqF",
        "vscode": {
          "languageId": "python"
        }
      },
      "outputs": [],
      "source": [
        "# Use pandas's filtering abilitites to select the subset of data\n",
        "# that represents movies, then calculate how many rows are in the filtered data.\n",
        "minimalData = theData[['type', 'rating']]\n",
        "cleanedData = minimalData.dropna()\n",
        "onlyMovieData = cleanedData.loc[theData['type'] == \"Movie\"]"
      ]
    },
    {
      "cell_type": "markdown",
      "metadata": {
        "id": "sxWEVnHyVV8c"
      },
      "source": [
        "### MPAA Ratings\n",
        "Now that we have only movies, let's get a [quick count of the values being used](https://pandas.pydata.org/docs/getting_started/intro_tutorials/06_calculate_statistics.html)  in the `rating` feature."
      ]
    },
    {
      "cell_type": "code",
      "execution_count": 36,
      "metadata": {
        "id": "bH4pNyeVVx0R",
        "vscode": {
          "languageId": "python"
        },
        "colab": {
          "base_uri": "https://localhost:8080/"
        },
        "outputId": "d999c5f7-5851-4cb3-b093-23c0c924e323"
      },
      "outputs": [
        {
          "output_type": "stream",
          "name": "stdout",
          "text": [
            "['R' 'PG-13' 'PG' 'G' 'NC-17']\n"
          ]
        }
      ],
      "source": [
        "# Determine the number of records for each value of the \"rating\" feature.\n",
        "# Remember to count the values in your subset only, not in the original dataframe.\n",
        "distinctRatings = onlyMovieData['rating'].unique()\n",
        "print(distinctRatings)"
      ]
    },
    {
      "cell_type": "markdown",
      "metadata": {
        "id": "81bBg3tbV_5s"
      },
      "source": [
        "### More Filtering\n",
        "\n",
        "There are apparently some \"made for TV\" movies in the list that don't fit the\n",
        "MPAA rating scheme.\n",
        "\n",
        "Let's [filter some more](https://pandas.pydata.org/docs/getting_started/intro_tutorials/03_subset_data.html) to just see movies rated with the standard MPAA ratings of G, PG, PG-13, R, and NC-17."
      ]
    },
    {
      "cell_type": "code",
      "execution_count": 41,
      "metadata": {
        "id": "kQmlZqO5Wb_N",
        "vscode": {
          "languageId": "python"
        }
      },
      "outputs": [],
      "source": [
        "# Filter the list of movies to select a new subset containing only movies with\n",
        "# a standard MPAA rating. Calculate how many rows are in this new set, and\n",
        "# then see which ratings appear most often.\n",
        "desiredRatings = [\"G\", \"PG\", \"PG-13\", \"R\", \"NC-17\"]\n",
        "onlyMovieData = onlyMovieData.loc[onlyMovieData['rating'].isin(desiredRatings)]\n",
        "onlyMovieData['rating'] = pd.Categorical(onlyMovieData['rating'], categories=desiredRatings, ordered=True)\n",
        "onlyMovieData = onlyMovieData.sort_values('rating')"
      ]
    },
    {
      "cell_type": "markdown",
      "metadata": {
        "id": "cl30h29pWp26"
      },
      "source": [
        "## Part 4: Visualization\n",
        "Now that we have explored and preprocessed our data, let's create a visualization to summarize our findings.\n",
        "\n",
        "### Exploration vs Presentation\n",
        "Broadly speaking, there are two types of visualizations:\n",
        "* Barebones visualizations you might use to get a quick, visual understanding of the data while you're trying to decide how it all fits together.\n",
        "* Presentation-quality visualizations that you would include in a report or presentation for management or other stakeholders.\n",
        "\n",
        "### Visualization Tools\n",
        "There are many different visualization tools availble. In the sections below,\n",
        "we'll explore the three most common. Each of these libraries has strengths and weaknesses.\n",
        "\n",
        "It is probably a good idea for you to become familiar with each one, and then become proficient at whichever one you like the best."
      ]
    },
    {
      "cell_type": "markdown",
      "metadata": {
        "id": "ebhKz6g9DmRE"
      },
      "source": [
        "### Altair\n",
        "The Altair visualization library provides a large variety of very easy to use statistical charting tools.\n",
        "\n",
        "Altair uses a declarative language to build up charts piece by piece.\n",
        "\n",
        "Assume we have a pandas dataframe called `employees`, with three columns: `name`, `job`, `salary`.\n",
        "\n",
        "    # Make a box plot style categorical plot showing the distribution of salaries for each job:\n",
        "    alt.Chart(employees).mark_boxplot().encode(\n",
        "        x='job',\n",
        "        y='salary'\n",
        "    )\n",
        "\n",
        "    # Make a box plot style categorical plot, and customize the results\n",
        "    alt.Chart(employees).mark_boxplot().encode(\n",
        "        alt.X('job', title='Job title'),\n",
        "        alt.Y('salary', title='Annual salary in thousands of $USD')\n",
        "    ).properties(\n",
        "      title='Salaries by Job Title'\n",
        "    )"
      ]
    },
    {
      "cell_type": "markdown",
      "metadata": {
        "id": "kOVsR0WCIm-L"
      },
      "source": [
        "Like with Pandas, there is a [conventional way to import Altair](https://altair-viz.github.io/getting_started/starting.html#the-chart-object) into your projects."
      ]
    },
    {
      "cell_type": "code",
      "execution_count": 37,
      "metadata": {
        "id": "mYmVEExwD9O9",
        "vscode": {
          "languageId": "python"
        }
      },
      "outputs": [],
      "source": [
        "# Import the Altair library the conventional way.\n",
        "import altair as alt"
      ]
    },
    {
      "cell_type": "markdown",
      "metadata": {
        "id": "IAw61g-CD-Je"
      },
      "source": [
        "Let's create a barchart showing the count of each movie rating by using Altair's aggregation capabilities.\n",
        "\n",
        "In [this example](https://altair-viz.github.io/getting_started/starting.html#data-transformation-aggregation), we see the x axis being set to a feature called `a`, and the y axis set to the `average()` of a feature called `b`.\n",
        "\n",
        "In our case, we want the x axis to be set to `rating` and the y axis to be the `count()` of `rating`."
      ]
    },
    {
      "cell_type": "code",
      "execution_count": 43,
      "metadata": {
        "id": "lixpX9B-EEQS",
        "vscode": {
          "languageId": "python"
        },
        "colab": {
          "base_uri": "https://localhost:8080/",
          "height": 387
        },
        "outputId": "2d465057-42d9-433c-8ded-c9464128737f"
      },
      "outputs": [
        {
          "output_type": "execute_result",
          "data": {
            "text/html": [
              "\n",
              "<style>\n",
              "  #altair-viz-65d040ef0fce4427af0f04699091cd52.vega-embed {\n",
              "    width: 100%;\n",
              "    display: flex;\n",
              "  }\n",
              "\n",
              "  #altair-viz-65d040ef0fce4427af0f04699091cd52.vega-embed details,\n",
              "  #altair-viz-65d040ef0fce4427af0f04699091cd52.vega-embed details summary {\n",
              "    position: relative;\n",
              "  }\n",
              "</style>\n",
              "<div id=\"altair-viz-65d040ef0fce4427af0f04699091cd52\"></div>\n",
              "<script type=\"text/javascript\">\n",
              "  var VEGA_DEBUG = (typeof VEGA_DEBUG == \"undefined\") ? {} : VEGA_DEBUG;\n",
              "  (function(spec, embedOpt){\n",
              "    let outputDiv = document.currentScript.previousElementSibling;\n",
              "    if (outputDiv.id !== \"altair-viz-65d040ef0fce4427af0f04699091cd52\") {\n",
              "      outputDiv = document.getElementById(\"altair-viz-65d040ef0fce4427af0f04699091cd52\");\n",
              "    }\n",
              "\n",
              "    const paths = {\n",
              "      \"vega\": \"https://cdn.jsdelivr.net/npm/vega@5?noext\",\n",
              "      \"vega-lib\": \"https://cdn.jsdelivr.net/npm/vega-lib?noext\",\n",
              "      \"vega-lite\": \"https://cdn.jsdelivr.net/npm/vega-lite@5.20.1?noext\",\n",
              "      \"vega-embed\": \"https://cdn.jsdelivr.net/npm/vega-embed@6?noext\",\n",
              "    };\n",
              "\n",
              "    function maybeLoadScript(lib, version) {\n",
              "      var key = `${lib.replace(\"-\", \"\")}_version`;\n",
              "      return (VEGA_DEBUG[key] == version) ?\n",
              "        Promise.resolve(paths[lib]) :\n",
              "        new Promise(function(resolve, reject) {\n",
              "          var s = document.createElement('script');\n",
              "          document.getElementsByTagName(\"head\")[0].appendChild(s);\n",
              "          s.async = true;\n",
              "          s.onload = () => {\n",
              "            VEGA_DEBUG[key] = version;\n",
              "            return resolve(paths[lib]);\n",
              "          };\n",
              "          s.onerror = () => reject(`Error loading script: ${paths[lib]}`);\n",
              "          s.src = paths[lib];\n",
              "        });\n",
              "    }\n",
              "\n",
              "    function showError(err) {\n",
              "      outputDiv.innerHTML = `<div class=\"error\" style=\"color:red;\">${err}</div>`;\n",
              "      throw err;\n",
              "    }\n",
              "\n",
              "    function displayChart(vegaEmbed) {\n",
              "      vegaEmbed(outputDiv, spec, embedOpt)\n",
              "        .catch(err => showError(`Javascript Error: ${err.message}<br>This usually means there's a typo in your chart specification. See the javascript console for the full traceback.`));\n",
              "    }\n",
              "\n",
              "    if(typeof define === \"function\" && define.amd) {\n",
              "      requirejs.config({paths});\n",
              "      let deps = [\"vega-embed\"];\n",
              "      require(deps, displayChart, err => showError(`Error loading script: ${err.message}`));\n",
              "    } else {\n",
              "      maybeLoadScript(\"vega\", \"5\")\n",
              "        .then(() => maybeLoadScript(\"vega-lite\", \"5.20.1\"))\n",
              "        .then(() => maybeLoadScript(\"vega-embed\", \"6\"))\n",
              "        .catch(showError)\n",
              "        .then(() => displayChart(vegaEmbed));\n",
              "    }\n",
              "  })({\"config\": {\"view\": {\"continuousWidth\": 300, \"continuousHeight\": 300}}, \"data\": {\"name\": \"data-6435236259bee74a4a1741bc7da927ed\"}, \"mark\": {\"type\": \"point\"}, \"encoding\": {\"x\": {\"field\": \"rating\", \"sort\": [\"G\", \"PG\", \"PG-13\", \"R\", \"NC-17\"], \"type\": \"ordinal\"}, \"y\": {\"aggregate\": \"count\", \"field\": \"rating\", \"sort\": [\"G\", \"PG\", \"PG-13\", \"R\", \"NC-17\"], \"type\": \"ordinal\"}}, \"$schema\": \"https://vega.github.io/schema/vega-lite/v5.20.1.json\", \"datasets\": {\"data-6435236259bee74a4a1741bc7da927ed\": [{\"type\": \"Movie\", \"rating\": \"G\"}, {\"type\": \"Movie\", \"rating\": \"G\"}, {\"type\": \"Movie\", \"rating\": \"G\"}, {\"type\": \"Movie\", \"rating\": \"G\"}, {\"type\": \"Movie\", \"rating\": \"G\"}, {\"type\": \"Movie\", \"rating\": \"G\"}, {\"type\": \"Movie\", \"rating\": \"G\"}, {\"type\": \"Movie\", \"rating\": \"G\"}, {\"type\": \"Movie\", \"rating\": \"G\"}, {\"type\": \"Movie\", \"rating\": \"G\"}, {\"type\": \"Movie\", \"rating\": \"G\"}, {\"type\": \"Movie\", \"rating\": \"G\"}, {\"type\": \"Movie\", \"rating\": \"G\"}, {\"type\": \"Movie\", \"rating\": \"G\"}, {\"type\": \"Movie\", \"rating\": \"G\"}, {\"type\": \"Movie\", \"rating\": \"G\"}, {\"type\": \"Movie\", \"rating\": \"G\"}, {\"type\": \"Movie\", \"rating\": \"G\"}, {\"type\": \"Movie\", \"rating\": \"G\"}, {\"type\": \"Movie\", \"rating\": \"G\"}, {\"type\": \"Movie\", \"rating\": \"G\"}, {\"type\": \"Movie\", \"rating\": \"G\"}, {\"type\": \"Movie\", \"rating\": \"G\"}, {\"type\": \"Movie\", \"rating\": \"G\"}, {\"type\": \"Movie\", \"rating\": \"G\"}, {\"type\": \"Movie\", \"rating\": \"G\"}, {\"type\": \"Movie\", \"rating\": \"G\"}, {\"type\": \"Movie\", \"rating\": \"G\"}, {\"type\": \"Movie\", \"rating\": \"G\"}, {\"type\": \"Movie\", \"rating\": \"G\"}, {\"type\": \"Movie\", \"rating\": \"G\"}, {\"type\": \"Movie\", \"rating\": \"G\"}, {\"type\": \"Movie\", \"rating\": \"G\"}, {\"type\": \"Movie\", \"rating\": \"G\"}, {\"type\": \"Movie\", \"rating\": \"G\"}, {\"type\": \"Movie\", \"rating\": \"G\"}, {\"type\": \"Movie\", \"rating\": \"PG\"}, {\"type\": \"Movie\", \"rating\": \"PG\"}, {\"type\": \"Movie\", \"rating\": \"PG\"}, {\"type\": \"Movie\", \"rating\": \"PG\"}, {\"type\": \"Movie\", \"rating\": \"PG\"}, {\"type\": \"Movie\", \"rating\": \"PG\"}, {\"type\": \"Movie\", \"rating\": \"PG\"}, {\"type\": \"Movie\", \"rating\": \"PG\"}, {\"type\": \"Movie\", \"rating\": \"PG\"}, {\"type\": \"Movie\", \"rating\": \"PG\"}, {\"type\": \"Movie\", \"rating\": \"PG\"}, {\"type\": \"Movie\", \"rating\": \"PG\"}, {\"type\": \"Movie\", \"rating\": \"PG\"}, {\"type\": \"Movie\", \"rating\": \"PG\"}, {\"type\": \"Movie\", \"rating\": \"PG\"}, {\"type\": \"Movie\", \"rating\": \"PG\"}, {\"type\": \"Movie\", \"rating\": \"PG\"}, {\"type\": \"Movie\", \"rating\": \"PG\"}, {\"type\": \"Movie\", \"rating\": \"PG\"}, {\"type\": \"Movie\", \"rating\": \"PG\"}, {\"type\": \"Movie\", \"rating\": \"PG\"}, {\"type\": \"Movie\", \"rating\": \"PG\"}, {\"type\": \"Movie\", \"rating\": \"PG\"}, {\"type\": \"Movie\", \"rating\": \"PG\"}, {\"type\": \"Movie\", \"rating\": \"PG\"}, {\"type\": \"Movie\", \"rating\": \"PG\"}, {\"type\": \"Movie\", \"rating\": \"PG\"}, {\"type\": \"Movie\", \"rating\": \"PG\"}, {\"type\": \"Movie\", \"rating\": \"PG\"}, {\"type\": \"Movie\", \"rating\": \"PG\"}, {\"type\": \"Movie\", \"rating\": \"PG\"}, {\"type\": \"Movie\", \"rating\": \"PG\"}, {\"type\": \"Movie\", \"rating\": \"PG\"}, {\"type\": \"Movie\", \"rating\": \"PG\"}, {\"type\": \"Movie\", \"rating\": \"PG\"}, {\"type\": \"Movie\", \"rating\": \"PG\"}, {\"type\": \"Movie\", \"rating\": \"PG\"}, {\"type\": \"Movie\", \"rating\": \"PG\"}, {\"type\": \"Movie\", \"rating\": \"PG\"}, {\"type\": \"Movie\", \"rating\": \"PG\"}, {\"type\": \"Movie\", \"rating\": \"PG\"}, {\"type\": \"Movie\", \"rating\": \"PG\"}, {\"type\": \"Movie\", \"rating\": \"PG\"}, {\"type\": \"Movie\", \"rating\": \"PG\"}, {\"type\": \"Movie\", \"rating\": \"PG\"}, {\"type\": \"Movie\", \"rating\": \"PG\"}, {\"type\": \"Movie\", \"rating\": \"PG\"}, {\"type\": \"Movie\", \"rating\": \"PG\"}, {\"type\": \"Movie\", \"rating\": \"PG\"}, {\"type\": \"Movie\", \"rating\": \"PG\"}, {\"type\": \"Movie\", \"rating\": \"PG\"}, {\"type\": \"Movie\", \"rating\": \"PG\"}, {\"type\": \"Movie\", \"rating\": \"PG\"}, {\"type\": \"Movie\", \"rating\": \"PG\"}, {\"type\": \"Movie\", \"rating\": \"PG\"}, {\"type\": \"Movie\", \"rating\": \"PG\"}, {\"type\": \"Movie\", \"rating\": \"PG\"}, {\"type\": \"Movie\", \"rating\": \"PG\"}, {\"type\": \"Movie\", \"rating\": \"PG\"}, {\"type\": \"Movie\", \"rating\": \"PG\"}, {\"type\": \"Movie\", \"rating\": \"PG\"}, {\"type\": \"Movie\", \"rating\": \"PG\"}, {\"type\": \"Movie\", \"rating\": \"PG\"}, {\"type\": \"Movie\", \"rating\": \"PG\"}, {\"type\": \"Movie\", \"rating\": \"PG\"}, {\"type\": \"Movie\", \"rating\": \"PG\"}, {\"type\": \"Movie\", \"rating\": \"PG\"}, {\"type\": \"Movie\", \"rating\": \"PG\"}, {\"type\": \"Movie\", \"rating\": \"PG\"}, {\"type\": \"Movie\", \"rating\": \"PG\"}, {\"type\": \"Movie\", \"rating\": \"PG\"}, {\"type\": \"Movie\", \"rating\": \"PG\"}, {\"type\": \"Movie\", \"rating\": \"PG\"}, {\"type\": \"Movie\", \"rating\": \"PG\"}, {\"type\": \"Movie\", \"rating\": \"PG\"}, {\"type\": \"Movie\", \"rating\": \"PG\"}, {\"type\": \"Movie\", \"rating\": \"PG\"}, {\"type\": \"Movie\", \"rating\": \"PG\"}, {\"type\": \"Movie\", \"rating\": \"PG\"}, {\"type\": \"Movie\", \"rating\": \"PG\"}, {\"type\": \"Movie\", \"rating\": \"PG\"}, {\"type\": \"Movie\", \"rating\": \"PG\"}, {\"type\": \"Movie\", \"rating\": \"PG\"}, {\"type\": \"Movie\", \"rating\": \"PG\"}, {\"type\": \"Movie\", \"rating\": \"PG\"}, {\"type\": \"Movie\", \"rating\": \"PG\"}, {\"type\": \"Movie\", \"rating\": \"PG\"}, {\"type\": \"Movie\", \"rating\": \"PG\"}, {\"type\": \"Movie\", \"rating\": \"PG\"}, {\"type\": \"Movie\", \"rating\": \"PG\"}, {\"type\": \"Movie\", \"rating\": \"PG\"}, {\"type\": \"Movie\", \"rating\": \"PG\"}, {\"type\": \"Movie\", \"rating\": \"PG\"}, {\"type\": \"Movie\", \"rating\": \"PG\"}, {\"type\": \"Movie\", \"rating\": \"PG\"}, {\"type\": \"Movie\", \"rating\": \"PG\"}, {\"type\": \"Movie\", \"rating\": \"PG\"}, {\"type\": \"Movie\", \"rating\": \"PG\"}, {\"type\": \"Movie\", \"rating\": \"PG\"}, {\"type\": \"Movie\", \"rating\": \"PG\"}, {\"type\": \"Movie\", \"rating\": \"PG\"}, {\"type\": \"Movie\", \"rating\": \"PG\"}, {\"type\": \"Movie\", \"rating\": \"PG\"}, {\"type\": \"Movie\", \"rating\": \"PG\"}, {\"type\": \"Movie\", \"rating\": \"PG\"}, {\"type\": \"Movie\", \"rating\": \"PG\"}, {\"type\": \"Movie\", \"rating\": \"PG\"}, {\"type\": \"Movie\", \"rating\": \"PG\"}, {\"type\": \"Movie\", \"rating\": \"PG\"}, {\"type\": \"Movie\", \"rating\": \"PG\"}, {\"type\": \"Movie\", \"rating\": \"PG\"}, {\"type\": \"Movie\", \"rating\": \"PG\"}, {\"type\": \"Movie\", \"rating\": \"PG\"}, {\"type\": \"Movie\", \"rating\": \"PG\"}, {\"type\": \"Movie\", \"rating\": \"PG\"}, {\"type\": \"Movie\", \"rating\": \"PG\"}, {\"type\": \"Movie\", \"rating\": \"PG\"}, {\"type\": \"Movie\", \"rating\": \"PG\"}, {\"type\": \"Movie\", \"rating\": \"PG\"}, {\"type\": \"Movie\", \"rating\": \"PG\"}, {\"type\": \"Movie\", \"rating\": \"PG\"}, {\"type\": \"Movie\", \"rating\": \"PG\"}, {\"type\": \"Movie\", \"rating\": \"PG\"}, {\"type\": \"Movie\", \"rating\": \"PG\"}, {\"type\": \"Movie\", \"rating\": \"PG\"}, {\"type\": \"Movie\", \"rating\": \"PG\"}, {\"type\": \"Movie\", \"rating\": \"PG\"}, {\"type\": \"Movie\", \"rating\": \"PG\"}, {\"type\": \"Movie\", \"rating\": \"PG\"}, {\"type\": \"Movie\", \"rating\": \"PG\"}, {\"type\": \"Movie\", \"rating\": \"PG\"}, {\"type\": \"Movie\", \"rating\": \"PG\"}, {\"type\": \"Movie\", \"rating\": \"PG\"}, {\"type\": \"Movie\", \"rating\": \"PG\"}, {\"type\": \"Movie\", \"rating\": \"PG\"}, {\"type\": \"Movie\", \"rating\": \"PG\"}, {\"type\": \"Movie\", \"rating\": \"PG\"}, {\"type\": \"Movie\", \"rating\": \"PG\"}, {\"type\": \"Movie\", \"rating\": \"PG\"}, {\"type\": \"Movie\", \"rating\": \"PG\"}, {\"type\": \"Movie\", \"rating\": \"PG\"}, {\"type\": \"Movie\", \"rating\": \"PG\"}, {\"type\": \"Movie\", \"rating\": \"PG\"}, {\"type\": \"Movie\", \"rating\": \"PG\"}, {\"type\": \"Movie\", \"rating\": \"PG\"}, {\"type\": \"Movie\", \"rating\": \"PG\"}, {\"type\": \"Movie\", \"rating\": \"PG\"}, {\"type\": \"Movie\", \"rating\": \"PG\"}, {\"type\": \"Movie\", \"rating\": \"PG\"}, {\"type\": \"Movie\", \"rating\": \"PG\"}, {\"type\": \"Movie\", \"rating\": \"PG\"}, {\"type\": \"Movie\", \"rating\": \"PG\"}, {\"type\": \"Movie\", \"rating\": \"PG\"}, {\"type\": \"Movie\", \"rating\": \"PG\"}, {\"type\": \"Movie\", \"rating\": \"PG\"}, {\"type\": \"Movie\", \"rating\": \"PG\"}, {\"type\": \"Movie\", \"rating\": \"PG\"}, {\"type\": \"Movie\", \"rating\": \"PG\"}, {\"type\": \"Movie\", \"rating\": \"PG\"}, {\"type\": \"Movie\", \"rating\": \"PG\"}, {\"type\": \"Movie\", \"rating\": \"PG\"}, {\"type\": \"Movie\", \"rating\": \"PG\"}, {\"type\": \"Movie\", \"rating\": \"PG\"}, {\"type\": \"Movie\", \"rating\": \"PG\"}, {\"type\": \"Movie\", \"rating\": \"PG\"}, {\"type\": \"Movie\", \"rating\": \"PG\"}, {\"type\": \"Movie\", \"rating\": \"PG\"}, {\"type\": \"Movie\", \"rating\": \"PG\"}, {\"type\": \"Movie\", \"rating\": \"PG\"}, {\"type\": \"Movie\", \"rating\": \"PG\"}, {\"type\": \"Movie\", \"rating\": \"PG\"}, {\"type\": \"Movie\", \"rating\": \"PG\"}, {\"type\": \"Movie\", \"rating\": \"PG\"}, {\"type\": \"Movie\", \"rating\": \"PG\"}, {\"type\": \"Movie\", \"rating\": \"PG\"}, {\"type\": \"Movie\", \"rating\": \"PG\"}, {\"type\": \"Movie\", \"rating\": \"PG\"}, {\"type\": \"Movie\", \"rating\": \"PG\"}, {\"type\": \"Movie\", \"rating\": \"PG\"}, {\"type\": \"Movie\", \"rating\": \"PG\"}, {\"type\": \"Movie\", \"rating\": \"PG\"}, {\"type\": \"Movie\", \"rating\": \"PG\"}, {\"type\": \"Movie\", \"rating\": \"PG\"}, {\"type\": \"Movie\", \"rating\": \"PG-13\"}, {\"type\": \"Movie\", \"rating\": \"PG-13\"}, {\"type\": \"Movie\", \"rating\": \"PG-13\"}, {\"type\": \"Movie\", \"rating\": \"PG-13\"}, {\"type\": \"Movie\", \"rating\": \"PG-13\"}, {\"type\": \"Movie\", \"rating\": \"PG-13\"}, {\"type\": \"Movie\", \"rating\": \"PG-13\"}, {\"type\": \"Movie\", \"rating\": \"PG-13\"}, {\"type\": \"Movie\", \"rating\": \"PG-13\"}, {\"type\": \"Movie\", \"rating\": \"PG-13\"}, {\"type\": \"Movie\", \"rating\": \"PG-13\"}, {\"type\": \"Movie\", \"rating\": \"PG-13\"}, {\"type\": \"Movie\", \"rating\": \"PG-13\"}, {\"type\": \"Movie\", \"rating\": \"PG-13\"}, {\"type\": \"Movie\", \"rating\": \"PG-13\"}, {\"type\": \"Movie\", \"rating\": \"PG-13\"}, {\"type\": \"Movie\", \"rating\": \"PG-13\"}, {\"type\": \"Movie\", \"rating\": \"PG-13\"}, {\"type\": \"Movie\", \"rating\": \"PG-13\"}, {\"type\": \"Movie\", \"rating\": \"PG-13\"}, {\"type\": \"Movie\", \"rating\": \"PG-13\"}, {\"type\": \"Movie\", \"rating\": \"PG-13\"}, {\"type\": \"Movie\", \"rating\": \"PG-13\"}, {\"type\": \"Movie\", \"rating\": \"PG-13\"}, {\"type\": \"Movie\", \"rating\": \"PG-13\"}, {\"type\": \"Movie\", \"rating\": \"PG-13\"}, {\"type\": \"Movie\", \"rating\": \"PG-13\"}, {\"type\": \"Movie\", \"rating\": \"PG-13\"}, {\"type\": \"Movie\", \"rating\": \"PG-13\"}, {\"type\": \"Movie\", \"rating\": \"PG-13\"}, {\"type\": \"Movie\", \"rating\": \"PG-13\"}, {\"type\": \"Movie\", \"rating\": \"PG-13\"}, {\"type\": \"Movie\", \"rating\": \"PG-13\"}, {\"type\": \"Movie\", \"rating\": \"PG-13\"}, {\"type\": \"Movie\", \"rating\": \"PG-13\"}, {\"type\": \"Movie\", \"rating\": \"PG-13\"}, {\"type\": \"Movie\", \"rating\": \"PG-13\"}, {\"type\": \"Movie\", \"rating\": \"PG-13\"}, {\"type\": \"Movie\", \"rating\": \"PG-13\"}, {\"type\": \"Movie\", \"rating\": \"PG-13\"}, {\"type\": \"Movie\", \"rating\": \"PG-13\"}, {\"type\": \"Movie\", \"rating\": \"PG-13\"}, {\"type\": \"Movie\", \"rating\": \"PG-13\"}, {\"type\": \"Movie\", \"rating\": \"PG-13\"}, {\"type\": \"Movie\", \"rating\": \"PG-13\"}, {\"type\": \"Movie\", \"rating\": \"PG-13\"}, {\"type\": \"Movie\", \"rating\": \"PG-13\"}, {\"type\": \"Movie\", \"rating\": \"PG-13\"}, {\"type\": \"Movie\", \"rating\": \"PG-13\"}, {\"type\": \"Movie\", \"rating\": \"PG-13\"}, {\"type\": \"Movie\", \"rating\": \"PG-13\"}, {\"type\": \"Movie\", \"rating\": \"PG-13\"}, {\"type\": \"Movie\", \"rating\": \"PG-13\"}, {\"type\": \"Movie\", \"rating\": \"PG-13\"}, {\"type\": \"Movie\", \"rating\": \"PG-13\"}, {\"type\": \"Movie\", \"rating\": \"PG-13\"}, {\"type\": \"Movie\", \"rating\": \"PG-13\"}, {\"type\": \"Movie\", \"rating\": \"PG-13\"}, {\"type\": \"Movie\", \"rating\": \"PG-13\"}, {\"type\": \"Movie\", \"rating\": \"PG-13\"}, {\"type\": \"Movie\", \"rating\": \"PG-13\"}, {\"type\": \"Movie\", \"rating\": \"PG-13\"}, {\"type\": \"Movie\", \"rating\": \"PG-13\"}, {\"type\": \"Movie\", \"rating\": \"PG-13\"}, {\"type\": \"Movie\", \"rating\": \"PG-13\"}, {\"type\": \"Movie\", \"rating\": \"PG-13\"}, {\"type\": \"Movie\", \"rating\": \"PG-13\"}, {\"type\": \"Movie\", \"rating\": \"PG-13\"}, {\"type\": \"Movie\", \"rating\": \"PG-13\"}, {\"type\": \"Movie\", \"rating\": \"PG-13\"}, {\"type\": \"Movie\", \"rating\": \"PG-13\"}, {\"type\": \"Movie\", \"rating\": \"PG-13\"}, {\"type\": \"Movie\", \"rating\": \"PG-13\"}, {\"type\": \"Movie\", \"rating\": \"PG-13\"}, {\"type\": \"Movie\", \"rating\": \"PG-13\"}, {\"type\": \"Movie\", \"rating\": \"PG-13\"}, {\"type\": \"Movie\", \"rating\": \"PG-13\"}, {\"type\": \"Movie\", \"rating\": \"PG-13\"}, {\"type\": \"Movie\", \"rating\": \"PG-13\"}, {\"type\": \"Movie\", \"rating\": \"PG-13\"}, {\"type\": \"Movie\", \"rating\": \"PG-13\"}, {\"type\": \"Movie\", \"rating\": \"PG-13\"}, {\"type\": \"Movie\", \"rating\": \"PG-13\"}, {\"type\": \"Movie\", \"rating\": \"PG-13\"}, {\"type\": \"Movie\", \"rating\": \"PG-13\"}, {\"type\": \"Movie\", \"rating\": \"PG-13\"}, {\"type\": \"Movie\", \"rating\": \"PG-13\"}, {\"type\": \"Movie\", \"rating\": \"PG-13\"}, {\"type\": \"Movie\", \"rating\": \"PG-13\"}, {\"type\": \"Movie\", \"rating\": \"PG-13\"}, {\"type\": \"Movie\", \"rating\": \"PG-13\"}, {\"type\": \"Movie\", \"rating\": \"PG-13\"}, {\"type\": \"Movie\", \"rating\": \"PG-13\"}, {\"type\": \"Movie\", \"rating\": \"PG-13\"}, {\"type\": \"Movie\", \"rating\": \"PG-13\"}, {\"type\": \"Movie\", \"rating\": \"PG-13\"}, {\"type\": \"Movie\", \"rating\": \"PG-13\"}, {\"type\": \"Movie\", \"rating\": \"PG-13\"}, {\"type\": \"Movie\", \"rating\": \"PG-13\"}, {\"type\": \"Movie\", \"rating\": \"PG-13\"}, {\"type\": \"Movie\", \"rating\": \"PG-13\"}, {\"type\": \"Movie\", \"rating\": \"PG-13\"}, {\"type\": \"Movie\", \"rating\": \"PG-13\"}, {\"type\": \"Movie\", \"rating\": \"PG-13\"}, {\"type\": \"Movie\", \"rating\": \"PG-13\"}, {\"type\": \"Movie\", \"rating\": \"PG-13\"}, {\"type\": \"Movie\", \"rating\": \"PG-13\"}, {\"type\": \"Movie\", \"rating\": \"PG-13\"}, {\"type\": \"Movie\", \"rating\": \"PG-13\"}, {\"type\": \"Movie\", \"rating\": \"PG-13\"}, {\"type\": \"Movie\", \"rating\": \"PG-13\"}, {\"type\": \"Movie\", \"rating\": \"PG-13\"}, {\"type\": \"Movie\", \"rating\": \"PG-13\"}, {\"type\": \"Movie\", \"rating\": \"PG-13\"}, {\"type\": \"Movie\", \"rating\": \"PG-13\"}, {\"type\": \"Movie\", \"rating\": \"PG-13\"}, {\"type\": \"Movie\", \"rating\": \"PG-13\"}, {\"type\": \"Movie\", \"rating\": \"PG-13\"}, {\"type\": \"Movie\", \"rating\": \"PG-13\"}, {\"type\": \"Movie\", \"rating\": \"PG-13\"}, {\"type\": \"Movie\", \"rating\": \"PG-13\"}, {\"type\": \"Movie\", \"rating\": \"PG-13\"}, {\"type\": \"Movie\", \"rating\": \"PG-13\"}, {\"type\": \"Movie\", \"rating\": \"PG-13\"}, {\"type\": \"Movie\", \"rating\": \"PG-13\"}, {\"type\": \"Movie\", \"rating\": \"PG-13\"}, {\"type\": \"Movie\", \"rating\": \"PG-13\"}, {\"type\": \"Movie\", \"rating\": \"PG-13\"}, {\"type\": \"Movie\", \"rating\": \"PG-13\"}, {\"type\": \"Movie\", \"rating\": \"PG-13\"}, {\"type\": \"Movie\", \"rating\": \"PG-13\"}, {\"type\": \"Movie\", \"rating\": \"PG-13\"}, {\"type\": \"Movie\", \"rating\": \"PG-13\"}, {\"type\": \"Movie\", \"rating\": \"PG-13\"}, {\"type\": \"Movie\", \"rating\": \"PG-13\"}, {\"type\": \"Movie\", \"rating\": \"PG-13\"}, {\"type\": \"Movie\", \"rating\": \"PG-13\"}, {\"type\": \"Movie\", \"rating\": \"PG-13\"}, {\"type\": \"Movie\", \"rating\": \"PG-13\"}, {\"type\": \"Movie\", \"rating\": \"PG-13\"}, {\"type\": \"Movie\", \"rating\": \"PG-13\"}, {\"type\": \"Movie\", \"rating\": \"PG-13\"}, {\"type\": \"Movie\", \"rating\": \"PG-13\"}, {\"type\": \"Movie\", \"rating\": \"PG-13\"}, {\"type\": \"Movie\", \"rating\": \"PG-13\"}, {\"type\": \"Movie\", \"rating\": \"PG-13\"}, {\"type\": \"Movie\", \"rating\": \"PG-13\"}, {\"type\": \"Movie\", \"rating\": \"PG-13\"}, {\"type\": \"Movie\", \"rating\": \"PG-13\"}, {\"type\": \"Movie\", \"rating\": \"PG-13\"}, {\"type\": \"Movie\", \"rating\": \"PG-13\"}, {\"type\": \"Movie\", \"rating\": \"PG-13\"}, {\"type\": \"Movie\", \"rating\": \"PG-13\"}, {\"type\": \"Movie\", \"rating\": \"PG-13\"}, {\"type\": \"Movie\", \"rating\": \"PG-13\"}, {\"type\": \"Movie\", \"rating\": \"PG-13\"}, {\"type\": \"Movie\", \"rating\": \"PG-13\"}, {\"type\": \"Movie\", \"rating\": \"PG-13\"}, {\"type\": \"Movie\", \"rating\": \"PG-13\"}, {\"type\": \"Movie\", \"rating\": \"PG-13\"}, {\"type\": \"Movie\", \"rating\": \"PG-13\"}, {\"type\": \"Movie\", \"rating\": \"PG-13\"}, {\"type\": \"Movie\", \"rating\": \"PG-13\"}, {\"type\": \"Movie\", \"rating\": \"PG-13\"}, {\"type\": \"Movie\", \"rating\": \"PG-13\"}, {\"type\": \"Movie\", \"rating\": \"PG-13\"}, {\"type\": \"Movie\", \"rating\": \"PG-13\"}, {\"type\": \"Movie\", \"rating\": \"PG-13\"}, {\"type\": \"Movie\", \"rating\": \"PG-13\"}, {\"type\": \"Movie\", \"rating\": \"PG-13\"}, {\"type\": \"Movie\", \"rating\": \"PG-13\"}, {\"type\": \"Movie\", \"rating\": \"PG-13\"}, {\"type\": \"Movie\", \"rating\": \"PG-13\"}, {\"type\": \"Movie\", \"rating\": \"PG-13\"}, {\"type\": \"Movie\", \"rating\": \"PG-13\"}, {\"type\": \"Movie\", \"rating\": \"PG-13\"}, {\"type\": \"Movie\", \"rating\": \"PG-13\"}, {\"type\": \"Movie\", \"rating\": \"PG-13\"}, {\"type\": \"Movie\", \"rating\": \"PG-13\"}, {\"type\": \"Movie\", \"rating\": \"PG-13\"}, {\"type\": \"Movie\", \"rating\": \"PG-13\"}, {\"type\": \"Movie\", \"rating\": \"PG-13\"}, {\"type\": \"Movie\", \"rating\": \"PG-13\"}, {\"type\": \"Movie\", \"rating\": \"PG-13\"}, {\"type\": \"Movie\", \"rating\": \"PG-13\"}, {\"type\": \"Movie\", \"rating\": \"PG-13\"}, {\"type\": \"Movie\", \"rating\": \"PG-13\"}, {\"type\": \"Movie\", \"rating\": \"PG-13\"}, {\"type\": \"Movie\", \"rating\": \"PG-13\"}, {\"type\": \"Movie\", \"rating\": \"PG-13\"}, {\"type\": \"Movie\", \"rating\": \"PG-13\"}, {\"type\": \"Movie\", \"rating\": \"PG-13\"}, {\"type\": \"Movie\", \"rating\": \"PG-13\"}, {\"type\": \"Movie\", \"rating\": \"PG-13\"}, {\"type\": \"Movie\", \"rating\": \"PG-13\"}, {\"type\": \"Movie\", \"rating\": \"PG-13\"}, {\"type\": \"Movie\", \"rating\": \"PG-13\"}, {\"type\": \"Movie\", \"rating\": \"PG-13\"}, {\"type\": \"Movie\", \"rating\": \"PG-13\"}, {\"type\": \"Movie\", \"rating\": \"PG-13\"}, {\"type\": \"Movie\", \"rating\": \"PG-13\"}, {\"type\": \"Movie\", \"rating\": \"PG-13\"}, {\"type\": \"Movie\", \"rating\": \"PG-13\"}, {\"type\": \"Movie\", \"rating\": \"PG-13\"}, {\"type\": \"Movie\", \"rating\": \"PG-13\"}, {\"type\": \"Movie\", \"rating\": \"PG-13\"}, {\"type\": \"Movie\", \"rating\": \"PG-13\"}, {\"type\": \"Movie\", \"rating\": \"PG-13\"}, {\"type\": \"Movie\", \"rating\": \"PG-13\"}, {\"type\": \"Movie\", \"rating\": \"PG-13\"}, {\"type\": \"Movie\", \"rating\": \"PG-13\"}, {\"type\": \"Movie\", \"rating\": \"PG-13\"}, {\"type\": \"Movie\", \"rating\": \"PG-13\"}, {\"type\": \"Movie\", \"rating\": \"PG-13\"}, {\"type\": \"Movie\", \"rating\": \"PG-13\"}, {\"type\": \"Movie\", \"rating\": \"PG-13\"}, {\"type\": \"Movie\", \"rating\": \"PG-13\"}, {\"type\": \"Movie\", \"rating\": \"PG-13\"}, {\"type\": \"Movie\", \"rating\": \"PG-13\"}, {\"type\": \"Movie\", \"rating\": \"PG-13\"}, {\"type\": \"Movie\", \"rating\": \"PG-13\"}, {\"type\": \"Movie\", \"rating\": \"PG-13\"}, {\"type\": \"Movie\", \"rating\": \"PG-13\"}, {\"type\": \"Movie\", \"rating\": \"PG-13\"}, {\"type\": \"Movie\", \"rating\": \"PG-13\"}, {\"type\": \"Movie\", \"rating\": \"PG-13\"}, {\"type\": \"Movie\", \"rating\": \"PG-13\"}, {\"type\": \"Movie\", \"rating\": \"PG-13\"}, {\"type\": \"Movie\", \"rating\": \"PG-13\"}, {\"type\": \"Movie\", \"rating\": \"PG-13\"}, {\"type\": \"Movie\", \"rating\": \"PG-13\"}, {\"type\": \"Movie\", \"rating\": \"PG-13\"}, {\"type\": \"Movie\", \"rating\": \"PG-13\"}, {\"type\": \"Movie\", \"rating\": \"PG-13\"}, {\"type\": \"Movie\", \"rating\": \"PG-13\"}, {\"type\": \"Movie\", \"rating\": \"PG-13\"}, {\"type\": \"Movie\", \"rating\": \"PG-13\"}, {\"type\": \"Movie\", \"rating\": \"PG-13\"}, {\"type\": \"Movie\", \"rating\": \"PG-13\"}, {\"type\": \"Movie\", \"rating\": \"PG-13\"}, {\"type\": \"Movie\", \"rating\": \"PG-13\"}, {\"type\": \"Movie\", \"rating\": \"PG-13\"}, {\"type\": \"Movie\", \"rating\": \"PG-13\"}, {\"type\": \"Movie\", \"rating\": \"PG-13\"}, {\"type\": \"Movie\", \"rating\": \"PG-13\"}, {\"type\": \"Movie\", \"rating\": \"PG-13\"}, {\"type\": \"Movie\", \"rating\": \"PG-13\"}, {\"type\": \"Movie\", \"rating\": \"PG-13\"}, {\"type\": \"Movie\", \"rating\": \"PG-13\"}, {\"type\": \"Movie\", \"rating\": \"PG-13\"}, {\"type\": \"Movie\", \"rating\": \"PG-13\"}, {\"type\": \"Movie\", \"rating\": \"PG-13\"}, {\"type\": \"Movie\", \"rating\": \"PG-13\"}, {\"type\": \"Movie\", \"rating\": \"PG-13\"}, {\"type\": \"Movie\", \"rating\": \"PG-13\"}, {\"type\": \"Movie\", \"rating\": \"PG-13\"}, {\"type\": \"Movie\", \"rating\": \"PG-13\"}, {\"type\": \"Movie\", \"rating\": \"PG-13\"}, {\"type\": \"Movie\", \"rating\": \"PG-13\"}, {\"type\": \"Movie\", \"rating\": \"PG-13\"}, {\"type\": \"Movie\", \"rating\": \"PG-13\"}, {\"type\": \"Movie\", \"rating\": \"PG-13\"}, {\"type\": \"Movie\", \"rating\": \"PG-13\"}, {\"type\": \"Movie\", \"rating\": \"PG-13\"}, {\"type\": \"Movie\", \"rating\": \"PG-13\"}, {\"type\": \"Movie\", \"rating\": \"PG-13\"}, {\"type\": \"Movie\", \"rating\": \"PG-13\"}, {\"type\": \"Movie\", \"rating\": \"PG-13\"}, {\"type\": \"Movie\", \"rating\": \"PG-13\"}, {\"type\": \"Movie\", \"rating\": \"PG-13\"}, {\"type\": \"Movie\", \"rating\": \"PG-13\"}, {\"type\": \"Movie\", \"rating\": \"PG-13\"}, {\"type\": \"Movie\", \"rating\": \"PG-13\"}, {\"type\": \"Movie\", \"rating\": \"PG-13\"}, {\"type\": \"Movie\", \"rating\": \"PG-13\"}, {\"type\": \"Movie\", \"rating\": \"PG-13\"}, {\"type\": \"Movie\", \"rating\": \"PG-13\"}, {\"type\": \"Movie\", \"rating\": \"PG-13\"}, {\"type\": \"Movie\", \"rating\": \"PG-13\"}, {\"type\": \"Movie\", \"rating\": \"PG-13\"}, {\"type\": \"Movie\", \"rating\": \"PG-13\"}, {\"type\": \"Movie\", \"rating\": \"PG-13\"}, {\"type\": \"Movie\", \"rating\": \"PG-13\"}, {\"type\": \"Movie\", \"rating\": \"PG-13\"}, {\"type\": \"Movie\", \"rating\": \"PG-13\"}, {\"type\": \"Movie\", \"rating\": \"PG-13\"}, {\"type\": \"Movie\", \"rating\": \"R\"}, {\"type\": \"Movie\", \"rating\": \"R\"}, {\"type\": \"Movie\", \"rating\": \"R\"}, {\"type\": \"Movie\", \"rating\": \"R\"}, {\"type\": \"Movie\", \"rating\": \"R\"}, {\"type\": \"Movie\", \"rating\": \"R\"}, {\"type\": \"Movie\", \"rating\": \"R\"}, {\"type\": \"Movie\", \"rating\": \"R\"}, {\"type\": \"Movie\", \"rating\": \"R\"}, {\"type\": \"Movie\", \"rating\": \"R\"}, {\"type\": \"Movie\", \"rating\": \"R\"}, {\"type\": \"Movie\", \"rating\": \"R\"}, {\"type\": \"Movie\", \"rating\": \"R\"}, {\"type\": \"Movie\", \"rating\": \"R\"}, {\"type\": \"Movie\", \"rating\": \"R\"}, {\"type\": \"Movie\", \"rating\": \"R\"}, {\"type\": \"Movie\", \"rating\": \"R\"}, {\"type\": \"Movie\", \"rating\": \"R\"}, {\"type\": \"Movie\", \"rating\": \"R\"}, {\"type\": \"Movie\", \"rating\": \"R\"}, {\"type\": \"Movie\", \"rating\": \"R\"}, {\"type\": \"Movie\", \"rating\": \"R\"}, {\"type\": \"Movie\", \"rating\": \"R\"}, {\"type\": \"Movie\", \"rating\": \"R\"}, {\"type\": \"Movie\", \"rating\": \"R\"}, {\"type\": \"Movie\", \"rating\": \"R\"}, {\"type\": \"Movie\", \"rating\": \"R\"}, {\"type\": \"Movie\", \"rating\": \"R\"}, {\"type\": \"Movie\", \"rating\": \"R\"}, {\"type\": \"Movie\", \"rating\": \"R\"}, {\"type\": \"Movie\", \"rating\": \"R\"}, {\"type\": \"Movie\", \"rating\": \"R\"}, {\"type\": \"Movie\", \"rating\": \"R\"}, {\"type\": \"Movie\", \"rating\": \"R\"}, {\"type\": \"Movie\", \"rating\": \"R\"}, {\"type\": \"Movie\", \"rating\": \"R\"}, {\"type\": \"Movie\", \"rating\": \"R\"}, {\"type\": \"Movie\", \"rating\": \"R\"}, {\"type\": \"Movie\", \"rating\": \"R\"}, {\"type\": \"Movie\", \"rating\": \"R\"}, {\"type\": \"Movie\", \"rating\": \"R\"}, {\"type\": \"Movie\", \"rating\": \"R\"}, {\"type\": \"Movie\", \"rating\": \"R\"}, {\"type\": \"Movie\", \"rating\": \"R\"}, {\"type\": \"Movie\", \"rating\": \"R\"}, {\"type\": \"Movie\", \"rating\": \"R\"}, {\"type\": \"Movie\", \"rating\": \"R\"}, {\"type\": \"Movie\", \"rating\": \"R\"}, {\"type\": \"Movie\", \"rating\": \"R\"}, {\"type\": \"Movie\", \"rating\": \"R\"}, {\"type\": \"Movie\", \"rating\": \"R\"}, {\"type\": \"Movie\", \"rating\": \"R\"}, {\"type\": \"Movie\", \"rating\": \"R\"}, {\"type\": \"Movie\", \"rating\": \"R\"}, {\"type\": \"Movie\", \"rating\": \"R\"}, {\"type\": \"Movie\", \"rating\": \"R\"}, {\"type\": \"Movie\", \"rating\": \"R\"}, {\"type\": \"Movie\", \"rating\": \"R\"}, {\"type\": \"Movie\", \"rating\": \"R\"}, {\"type\": \"Movie\", \"rating\": \"R\"}, {\"type\": \"Movie\", \"rating\": \"R\"}, {\"type\": \"Movie\", \"rating\": \"R\"}, {\"type\": \"Movie\", \"rating\": \"R\"}, {\"type\": \"Movie\", \"rating\": \"R\"}, {\"type\": \"Movie\", \"rating\": \"R\"}, {\"type\": \"Movie\", \"rating\": \"R\"}, {\"type\": \"Movie\", \"rating\": \"R\"}, {\"type\": \"Movie\", \"rating\": \"R\"}, {\"type\": \"Movie\", \"rating\": \"R\"}, {\"type\": \"Movie\", \"rating\": \"R\"}, {\"type\": \"Movie\", \"rating\": \"R\"}, {\"type\": \"Movie\", \"rating\": \"R\"}, {\"type\": \"Movie\", \"rating\": \"R\"}, {\"type\": \"Movie\", \"rating\": \"R\"}, {\"type\": \"Movie\", \"rating\": \"R\"}, {\"type\": \"Movie\", \"rating\": \"R\"}, {\"type\": \"Movie\", \"rating\": \"R\"}, {\"type\": \"Movie\", \"rating\": \"R\"}, {\"type\": \"Movie\", \"rating\": \"R\"}, {\"type\": \"Movie\", \"rating\": \"R\"}, {\"type\": \"Movie\", \"rating\": \"R\"}, {\"type\": \"Movie\", \"rating\": \"R\"}, {\"type\": \"Movie\", \"rating\": \"R\"}, {\"type\": \"Movie\", \"rating\": \"R\"}, {\"type\": \"Movie\", \"rating\": \"R\"}, {\"type\": \"Movie\", \"rating\": \"R\"}, {\"type\": \"Movie\", \"rating\": \"R\"}, {\"type\": \"Movie\", \"rating\": \"R\"}, {\"type\": \"Movie\", \"rating\": \"R\"}, {\"type\": \"Movie\", \"rating\": \"R\"}, {\"type\": \"Movie\", \"rating\": \"R\"}, {\"type\": \"Movie\", \"rating\": \"R\"}, {\"type\": \"Movie\", \"rating\": \"R\"}, {\"type\": \"Movie\", \"rating\": \"R\"}, {\"type\": \"Movie\", \"rating\": \"R\"}, {\"type\": \"Movie\", \"rating\": \"R\"}, {\"type\": \"Movie\", \"rating\": \"R\"}, {\"type\": \"Movie\", \"rating\": \"R\"}, {\"type\": \"Movie\", \"rating\": \"R\"}, {\"type\": \"Movie\", \"rating\": \"R\"}, {\"type\": \"Movie\", \"rating\": \"R\"}, {\"type\": \"Movie\", \"rating\": \"R\"}, {\"type\": \"Movie\", \"rating\": \"R\"}, {\"type\": \"Movie\", \"rating\": \"R\"}, {\"type\": \"Movie\", \"rating\": \"R\"}, {\"type\": \"Movie\", \"rating\": \"R\"}, {\"type\": \"Movie\", \"rating\": \"R\"}, {\"type\": \"Movie\", \"rating\": \"R\"}, {\"type\": \"Movie\", \"rating\": \"R\"}, {\"type\": \"Movie\", \"rating\": \"R\"}, {\"type\": \"Movie\", \"rating\": \"R\"}, {\"type\": \"Movie\", \"rating\": \"R\"}, {\"type\": \"Movie\", \"rating\": \"R\"}, {\"type\": \"Movie\", \"rating\": \"R\"}, {\"type\": \"Movie\", \"rating\": \"R\"}, {\"type\": \"Movie\", \"rating\": \"R\"}, {\"type\": \"Movie\", \"rating\": \"R\"}, {\"type\": \"Movie\", \"rating\": \"R\"}, {\"type\": \"Movie\", \"rating\": \"R\"}, {\"type\": \"Movie\", \"rating\": \"R\"}, {\"type\": \"Movie\", \"rating\": \"R\"}, {\"type\": \"Movie\", \"rating\": \"R\"}, {\"type\": \"Movie\", \"rating\": \"R\"}, {\"type\": \"Movie\", \"rating\": \"R\"}, {\"type\": \"Movie\", \"rating\": \"R\"}, {\"type\": \"Movie\", \"rating\": \"R\"}, {\"type\": \"Movie\", \"rating\": \"R\"}, {\"type\": \"Movie\", \"rating\": \"R\"}, {\"type\": \"Movie\", \"rating\": \"R\"}, {\"type\": \"Movie\", \"rating\": \"R\"}, {\"type\": \"Movie\", \"rating\": \"R\"}, {\"type\": \"Movie\", \"rating\": \"R\"}, {\"type\": \"Movie\", \"rating\": \"R\"}, {\"type\": \"Movie\", \"rating\": \"R\"}, {\"type\": \"Movie\", \"rating\": \"R\"}, {\"type\": \"Movie\", \"rating\": \"R\"}, {\"type\": \"Movie\", \"rating\": \"R\"}, {\"type\": \"Movie\", \"rating\": \"R\"}, {\"type\": \"Movie\", \"rating\": \"R\"}, {\"type\": \"Movie\", \"rating\": \"R\"}, {\"type\": \"Movie\", \"rating\": \"R\"}, {\"type\": \"Movie\", \"rating\": \"R\"}, {\"type\": \"Movie\", \"rating\": \"R\"}, {\"type\": \"Movie\", \"rating\": \"R\"}, {\"type\": \"Movie\", \"rating\": \"R\"}, {\"type\": \"Movie\", \"rating\": \"R\"}, {\"type\": \"Movie\", \"rating\": \"R\"}, {\"type\": \"Movie\", \"rating\": \"R\"}, {\"type\": \"Movie\", \"rating\": \"R\"}, {\"type\": \"Movie\", \"rating\": \"R\"}, {\"type\": \"Movie\", \"rating\": \"R\"}, {\"type\": \"Movie\", \"rating\": \"R\"}, {\"type\": \"Movie\", \"rating\": \"R\"}, {\"type\": \"Movie\", \"rating\": \"R\"}, {\"type\": \"Movie\", \"rating\": \"R\"}, {\"type\": \"Movie\", \"rating\": \"R\"}, {\"type\": \"Movie\", \"rating\": \"R\"}, {\"type\": \"Movie\", \"rating\": \"R\"}, {\"type\": \"Movie\", \"rating\": \"R\"}, {\"type\": \"Movie\", \"rating\": \"R\"}, {\"type\": \"Movie\", \"rating\": \"R\"}, {\"type\": \"Movie\", \"rating\": \"R\"}, {\"type\": \"Movie\", \"rating\": \"R\"}, {\"type\": \"Movie\", \"rating\": \"R\"}, {\"type\": \"Movie\", \"rating\": \"R\"}, {\"type\": \"Movie\", \"rating\": \"R\"}, {\"type\": \"Movie\", \"rating\": \"R\"}, {\"type\": \"Movie\", \"rating\": \"R\"}, {\"type\": \"Movie\", \"rating\": \"R\"}, {\"type\": \"Movie\", \"rating\": \"R\"}, {\"type\": \"Movie\", \"rating\": \"R\"}, {\"type\": \"Movie\", \"rating\": \"R\"}, {\"type\": \"Movie\", \"rating\": \"R\"}, {\"type\": \"Movie\", \"rating\": \"R\"}, {\"type\": \"Movie\", \"rating\": \"R\"}, {\"type\": \"Movie\", \"rating\": \"R\"}, {\"type\": \"Movie\", \"rating\": \"R\"}, {\"type\": \"Movie\", \"rating\": \"R\"}, {\"type\": \"Movie\", \"rating\": \"R\"}, {\"type\": \"Movie\", \"rating\": \"R\"}, {\"type\": \"Movie\", \"rating\": \"R\"}, {\"type\": \"Movie\", \"rating\": \"R\"}, {\"type\": \"Movie\", \"rating\": \"R\"}, {\"type\": \"Movie\", \"rating\": \"R\"}, {\"type\": \"Movie\", \"rating\": \"R\"}, {\"type\": \"Movie\", \"rating\": \"R\"}, {\"type\": \"Movie\", \"rating\": \"R\"}, {\"type\": \"Movie\", \"rating\": \"R\"}, {\"type\": \"Movie\", \"rating\": \"R\"}, {\"type\": \"Movie\", \"rating\": \"R\"}, {\"type\": \"Movie\", \"rating\": \"R\"}, {\"type\": \"Movie\", \"rating\": \"R\"}, {\"type\": \"Movie\", \"rating\": \"R\"}, {\"type\": \"Movie\", \"rating\": \"R\"}, {\"type\": \"Movie\", \"rating\": \"R\"}, {\"type\": \"Movie\", \"rating\": \"R\"}, {\"type\": \"Movie\", \"rating\": \"R\"}, {\"type\": \"Movie\", \"rating\": \"R\"}, {\"type\": \"Movie\", \"rating\": \"R\"}, {\"type\": \"Movie\", \"rating\": \"R\"}, {\"type\": \"Movie\", \"rating\": \"R\"}, {\"type\": \"Movie\", \"rating\": \"R\"}, {\"type\": \"Movie\", \"rating\": \"R\"}, {\"type\": \"Movie\", \"rating\": \"R\"}, {\"type\": \"Movie\", \"rating\": \"R\"}, {\"type\": \"Movie\", \"rating\": \"R\"}, {\"type\": \"Movie\", \"rating\": \"R\"}, {\"type\": \"Movie\", \"rating\": \"R\"}, {\"type\": \"Movie\", \"rating\": \"R\"}, {\"type\": \"Movie\", \"rating\": \"R\"}, {\"type\": \"Movie\", \"rating\": \"R\"}, {\"type\": \"Movie\", \"rating\": \"R\"}, {\"type\": \"Movie\", \"rating\": \"R\"}, {\"type\": \"Movie\", \"rating\": \"R\"}, {\"type\": \"Movie\", \"rating\": \"R\"}, {\"type\": \"Movie\", \"rating\": \"R\"}, {\"type\": \"Movie\", \"rating\": \"R\"}, {\"type\": \"Movie\", \"rating\": \"R\"}, {\"type\": \"Movie\", \"rating\": \"R\"}, {\"type\": \"Movie\", \"rating\": \"R\"}, {\"type\": \"Movie\", \"rating\": \"R\"}, {\"type\": \"Movie\", \"rating\": \"R\"}, {\"type\": \"Movie\", \"rating\": \"R\"}, {\"type\": \"Movie\", \"rating\": \"R\"}, {\"type\": \"Movie\", \"rating\": \"R\"}, {\"type\": \"Movie\", \"rating\": \"R\"}, {\"type\": \"Movie\", \"rating\": \"R\"}, {\"type\": \"Movie\", \"rating\": \"R\"}, {\"type\": \"Movie\", \"rating\": \"R\"}, {\"type\": \"Movie\", \"rating\": \"R\"}, {\"type\": \"Movie\", \"rating\": \"R\"}, {\"type\": \"Movie\", \"rating\": \"R\"}, {\"type\": \"Movie\", \"rating\": \"R\"}, {\"type\": \"Movie\", \"rating\": \"R\"}, {\"type\": \"Movie\", \"rating\": \"R\"}, {\"type\": \"Movie\", \"rating\": \"R\"}, {\"type\": \"Movie\", \"rating\": \"R\"}, {\"type\": \"Movie\", \"rating\": \"R\"}, {\"type\": \"Movie\", \"rating\": \"R\"}, {\"type\": \"Movie\", \"rating\": \"R\"}, {\"type\": \"Movie\", \"rating\": \"R\"}, {\"type\": \"Movie\", \"rating\": \"R\"}, {\"type\": \"Movie\", \"rating\": \"R\"}, {\"type\": \"Movie\", \"rating\": \"R\"}, {\"type\": \"Movie\", \"rating\": \"R\"}, {\"type\": \"Movie\", \"rating\": \"R\"}, {\"type\": \"Movie\", \"rating\": \"R\"}, {\"type\": \"Movie\", \"rating\": \"R\"}, {\"type\": \"Movie\", \"rating\": \"R\"}, {\"type\": \"Movie\", \"rating\": \"R\"}, {\"type\": \"Movie\", \"rating\": \"R\"}, {\"type\": \"Movie\", \"rating\": \"R\"}, {\"type\": \"Movie\", \"rating\": \"R\"}, {\"type\": \"Movie\", \"rating\": \"R\"}, {\"type\": \"Movie\", \"rating\": \"R\"}, {\"type\": \"Movie\", \"rating\": \"R\"}, {\"type\": \"Movie\", \"rating\": \"R\"}, {\"type\": \"Movie\", \"rating\": \"R\"}, {\"type\": \"Movie\", \"rating\": \"R\"}, {\"type\": \"Movie\", \"rating\": \"R\"}, {\"type\": \"Movie\", \"rating\": \"R\"}, {\"type\": \"Movie\", \"rating\": \"R\"}, {\"type\": \"Movie\", \"rating\": \"R\"}, {\"type\": \"Movie\", \"rating\": \"R\"}, {\"type\": \"Movie\", \"rating\": \"R\"}, {\"type\": \"Movie\", \"rating\": \"R\"}, {\"type\": \"Movie\", \"rating\": \"R\"}, {\"type\": \"Movie\", \"rating\": \"R\"}, {\"type\": \"Movie\", \"rating\": \"R\"}, {\"type\": \"Movie\", \"rating\": \"R\"}, {\"type\": \"Movie\", \"rating\": \"R\"}, {\"type\": \"Movie\", \"rating\": \"R\"}, {\"type\": \"Movie\", \"rating\": \"R\"}, {\"type\": \"Movie\", \"rating\": \"R\"}, {\"type\": \"Movie\", \"rating\": \"R\"}, {\"type\": \"Movie\", \"rating\": \"R\"}, {\"type\": \"Movie\", \"rating\": \"R\"}, {\"type\": \"Movie\", \"rating\": \"R\"}, {\"type\": \"Movie\", \"rating\": \"R\"}, {\"type\": \"Movie\", \"rating\": \"R\"}, {\"type\": \"Movie\", \"rating\": \"R\"}, {\"type\": \"Movie\", \"rating\": \"R\"}, {\"type\": \"Movie\", \"rating\": \"R\"}, {\"type\": \"Movie\", \"rating\": \"R\"}, {\"type\": \"Movie\", \"rating\": \"R\"}, {\"type\": \"Movie\", \"rating\": \"R\"}, {\"type\": \"Movie\", \"rating\": \"R\"}, {\"type\": \"Movie\", \"rating\": \"R\"}, {\"type\": \"Movie\", \"rating\": \"R\"}, {\"type\": \"Movie\", \"rating\": \"R\"}, {\"type\": \"Movie\", \"rating\": \"R\"}, {\"type\": \"Movie\", \"rating\": \"R\"}, {\"type\": \"Movie\", \"rating\": \"R\"}, {\"type\": \"Movie\", \"rating\": \"R\"}, {\"type\": \"Movie\", \"rating\": \"R\"}, {\"type\": \"Movie\", \"rating\": \"R\"}, {\"type\": \"Movie\", \"rating\": \"R\"}, {\"type\": \"Movie\", \"rating\": \"R\"}, {\"type\": \"Movie\", \"rating\": \"R\"}, {\"type\": \"Movie\", \"rating\": \"R\"}, {\"type\": \"Movie\", \"rating\": \"R\"}, {\"type\": \"Movie\", \"rating\": \"R\"}, {\"type\": \"Movie\", \"rating\": \"R\"}, {\"type\": \"Movie\", \"rating\": \"R\"}, {\"type\": \"Movie\", \"rating\": \"R\"}, {\"type\": \"Movie\", \"rating\": \"R\"}, {\"type\": \"Movie\", \"rating\": \"R\"}, {\"type\": \"Movie\", \"rating\": \"R\"}, {\"type\": \"Movie\", \"rating\": \"R\"}, {\"type\": \"Movie\", \"rating\": \"R\"}, {\"type\": \"Movie\", \"rating\": \"R\"}, {\"type\": \"Movie\", \"rating\": \"R\"}, {\"type\": \"Movie\", \"rating\": \"R\"}, {\"type\": \"Movie\", \"rating\": \"R\"}, {\"type\": \"Movie\", \"rating\": \"R\"}, {\"type\": \"Movie\", \"rating\": \"R\"}, {\"type\": \"Movie\", \"rating\": \"R\"}, {\"type\": \"Movie\", \"rating\": \"R\"}, {\"type\": \"Movie\", \"rating\": \"R\"}, {\"type\": \"Movie\", \"rating\": \"R\"}, {\"type\": \"Movie\", \"rating\": \"R\"}, {\"type\": \"Movie\", \"rating\": \"R\"}, {\"type\": \"Movie\", \"rating\": \"R\"}, {\"type\": \"Movie\", \"rating\": \"R\"}, {\"type\": \"Movie\", \"rating\": \"R\"}, {\"type\": \"Movie\", \"rating\": \"R\"}, {\"type\": \"Movie\", \"rating\": \"R\"}, {\"type\": \"Movie\", \"rating\": \"R\"}, {\"type\": \"Movie\", \"rating\": \"R\"}, {\"type\": \"Movie\", \"rating\": \"R\"}, {\"type\": \"Movie\", \"rating\": \"R\"}, {\"type\": \"Movie\", \"rating\": \"R\"}, {\"type\": \"Movie\", \"rating\": \"R\"}, {\"type\": \"Movie\", \"rating\": \"R\"}, {\"type\": \"Movie\", \"rating\": \"R\"}, {\"type\": \"Movie\", \"rating\": \"R\"}, {\"type\": \"Movie\", \"rating\": \"R\"}, {\"type\": \"Movie\", \"rating\": \"R\"}, {\"type\": \"Movie\", \"rating\": \"R\"}, {\"type\": \"Movie\", \"rating\": \"R\"}, {\"type\": \"Movie\", \"rating\": \"R\"}, {\"type\": \"Movie\", \"rating\": \"R\"}, {\"type\": \"Movie\", \"rating\": \"R\"}, {\"type\": \"Movie\", \"rating\": \"R\"}, {\"type\": \"Movie\", \"rating\": \"R\"}, {\"type\": \"Movie\", \"rating\": \"R\"}, {\"type\": \"Movie\", \"rating\": \"R\"}, {\"type\": \"Movie\", \"rating\": \"R\"}, {\"type\": \"Movie\", \"rating\": \"R\"}, {\"type\": \"Movie\", \"rating\": \"R\"}, {\"type\": \"Movie\", \"rating\": \"R\"}, {\"type\": \"Movie\", \"rating\": \"R\"}, {\"type\": \"Movie\", \"rating\": \"R\"}, {\"type\": \"Movie\", \"rating\": \"R\"}, {\"type\": \"Movie\", \"rating\": \"R\"}, {\"type\": \"Movie\", \"rating\": \"R\"}, {\"type\": \"Movie\", \"rating\": \"R\"}, {\"type\": \"Movie\", \"rating\": \"R\"}, {\"type\": \"Movie\", \"rating\": \"R\"}, {\"type\": \"Movie\", \"rating\": \"R\"}, {\"type\": \"Movie\", \"rating\": \"R\"}, {\"type\": \"Movie\", \"rating\": \"R\"}, {\"type\": \"Movie\", \"rating\": \"R\"}, {\"type\": \"Movie\", \"rating\": \"R\"}, {\"type\": \"Movie\", \"rating\": \"R\"}, {\"type\": \"Movie\", \"rating\": \"R\"}, {\"type\": \"Movie\", \"rating\": \"R\"}, {\"type\": \"Movie\", \"rating\": \"R\"}, {\"type\": \"Movie\", \"rating\": \"R\"}, {\"type\": \"Movie\", \"rating\": \"R\"}, {\"type\": \"Movie\", \"rating\": \"R\"}, {\"type\": \"Movie\", \"rating\": \"R\"}, {\"type\": \"Movie\", \"rating\": \"R\"}, {\"type\": \"Movie\", \"rating\": \"R\"}, {\"type\": \"Movie\", \"rating\": \"R\"}, {\"type\": \"Movie\", \"rating\": \"R\"}, {\"type\": \"Movie\", \"rating\": \"R\"}, {\"type\": \"Movie\", \"rating\": \"R\"}, {\"type\": \"Movie\", \"rating\": \"R\"}, {\"type\": \"Movie\", \"rating\": \"R\"}, {\"type\": \"Movie\", \"rating\": \"R\"}, {\"type\": \"Movie\", \"rating\": \"R\"}, {\"type\": \"Movie\", \"rating\": \"R\"}, {\"type\": \"Movie\", \"rating\": \"R\"}, {\"type\": \"Movie\", \"rating\": \"R\"}, {\"type\": \"Movie\", \"rating\": \"R\"}, {\"type\": \"Movie\", \"rating\": \"R\"}, {\"type\": \"Movie\", \"rating\": \"R\"}, {\"type\": \"Movie\", \"rating\": \"R\"}, {\"type\": \"Movie\", \"rating\": \"R\"}, {\"type\": \"Movie\", \"rating\": \"R\"}, {\"type\": \"Movie\", \"rating\": \"R\"}, {\"type\": \"Movie\", \"rating\": \"R\"}, {\"type\": \"Movie\", \"rating\": \"R\"}, {\"type\": \"Movie\", \"rating\": \"R\"}, {\"type\": \"Movie\", \"rating\": \"R\"}, {\"type\": \"Movie\", \"rating\": \"R\"}, {\"type\": \"Movie\", \"rating\": \"R\"}, {\"type\": \"Movie\", \"rating\": \"R\"}, {\"type\": \"Movie\", \"rating\": \"R\"}, {\"type\": \"Movie\", \"rating\": \"R\"}, {\"type\": \"Movie\", \"rating\": \"R\"}, {\"type\": \"Movie\", \"rating\": \"R\"}, {\"type\": \"Movie\", \"rating\": \"R\"}, {\"type\": \"Movie\", \"rating\": \"R\"}, {\"type\": \"Movie\", \"rating\": \"R\"}, {\"type\": \"Movie\", \"rating\": \"R\"}, {\"type\": \"Movie\", \"rating\": \"R\"}, {\"type\": \"Movie\", \"rating\": \"R\"}, {\"type\": \"Movie\", \"rating\": \"R\"}, {\"type\": \"Movie\", \"rating\": \"R\"}, {\"type\": \"Movie\", \"rating\": \"R\"}, {\"type\": \"Movie\", \"rating\": \"R\"}, {\"type\": \"Movie\", \"rating\": \"R\"}, {\"type\": \"Movie\", \"rating\": \"R\"}, {\"type\": \"Movie\", \"rating\": \"R\"}, {\"type\": \"Movie\", \"rating\": \"R\"}, {\"type\": \"Movie\", \"rating\": \"R\"}, {\"type\": \"Movie\", \"rating\": \"R\"}, {\"type\": \"Movie\", \"rating\": \"R\"}, {\"type\": \"Movie\", \"rating\": \"R\"}, {\"type\": \"Movie\", \"rating\": \"R\"}, {\"type\": \"Movie\", \"rating\": \"R\"}, {\"type\": \"Movie\", \"rating\": \"R\"}, {\"type\": \"Movie\", \"rating\": \"R\"}, {\"type\": \"Movie\", \"rating\": \"R\"}, {\"type\": \"Movie\", \"rating\": \"R\"}, {\"type\": \"Movie\", \"rating\": \"R\"}, {\"type\": \"Movie\", \"rating\": \"R\"}, {\"type\": \"Movie\", \"rating\": \"R\"}, {\"type\": \"Movie\", \"rating\": \"R\"}, {\"type\": \"Movie\", \"rating\": \"R\"}, {\"type\": \"Movie\", \"rating\": \"R\"}, {\"type\": \"Movie\", \"rating\": \"R\"}, {\"type\": \"Movie\", \"rating\": \"R\"}, {\"type\": \"Movie\", \"rating\": \"R\"}, {\"type\": \"Movie\", \"rating\": \"R\"}, {\"type\": \"Movie\", \"rating\": \"R\"}, {\"type\": \"Movie\", \"rating\": \"R\"}, {\"type\": \"Movie\", \"rating\": \"R\"}, {\"type\": \"Movie\", \"rating\": \"R\"}, {\"type\": \"Movie\", \"rating\": \"R\"}, {\"type\": \"Movie\", \"rating\": \"R\"}, {\"type\": \"Movie\", \"rating\": \"R\"}, {\"type\": \"Movie\", \"rating\": \"R\"}, {\"type\": \"Movie\", \"rating\": \"R\"}, {\"type\": \"Movie\", \"rating\": \"R\"}, {\"type\": \"Movie\", \"rating\": \"R\"}, {\"type\": \"Movie\", \"rating\": \"R\"}, {\"type\": \"Movie\", \"rating\": \"R\"}, {\"type\": \"Movie\", \"rating\": \"R\"}, {\"type\": \"Movie\", \"rating\": \"R\"}, {\"type\": \"Movie\", \"rating\": \"R\"}, {\"type\": \"Movie\", \"rating\": \"R\"}, {\"type\": \"Movie\", \"rating\": \"R\"}, {\"type\": \"Movie\", \"rating\": \"R\"}, {\"type\": \"Movie\", \"rating\": \"R\"}, {\"type\": \"Movie\", \"rating\": \"R\"}, {\"type\": \"Movie\", \"rating\": \"R\"}, {\"type\": \"Movie\", \"rating\": \"R\"}, {\"type\": \"Movie\", \"rating\": \"R\"}, {\"type\": \"Movie\", \"rating\": \"R\"}, {\"type\": \"Movie\", \"rating\": \"R\"}, {\"type\": \"Movie\", \"rating\": \"R\"}, {\"type\": \"Movie\", \"rating\": \"R\"}, {\"type\": \"Movie\", \"rating\": \"R\"}, {\"type\": \"Movie\", \"rating\": \"R\"}, {\"type\": \"Movie\", \"rating\": \"R\"}, {\"type\": \"Movie\", \"rating\": \"R\"}, {\"type\": \"Movie\", \"rating\": \"R\"}, {\"type\": \"Movie\", \"rating\": \"R\"}, {\"type\": \"Movie\", \"rating\": \"R\"}, {\"type\": \"Movie\", \"rating\": \"R\"}, {\"type\": \"Movie\", \"rating\": \"R\"}, {\"type\": \"Movie\", \"rating\": \"R\"}, {\"type\": \"Movie\", \"rating\": \"R\"}, {\"type\": \"Movie\", \"rating\": \"R\"}, {\"type\": \"Movie\", \"rating\": \"R\"}, {\"type\": \"Movie\", \"rating\": \"R\"}, {\"type\": \"Movie\", \"rating\": \"R\"}, {\"type\": \"Movie\", \"rating\": \"R\"}, {\"type\": \"Movie\", \"rating\": \"R\"}, {\"type\": \"Movie\", \"rating\": \"R\"}, {\"type\": \"Movie\", \"rating\": \"R\"}, {\"type\": \"Movie\", \"rating\": \"R\"}, {\"type\": \"Movie\", \"rating\": \"R\"}, {\"type\": \"Movie\", \"rating\": \"R\"}, {\"type\": \"Movie\", \"rating\": \"R\"}, {\"type\": \"Movie\", \"rating\": \"R\"}, {\"type\": \"Movie\", \"rating\": \"R\"}, {\"type\": \"Movie\", \"rating\": \"R\"}, {\"type\": \"Movie\", \"rating\": \"R\"}, {\"type\": \"Movie\", \"rating\": \"R\"}, {\"type\": \"Movie\", \"rating\": \"R\"}, {\"type\": \"Movie\", \"rating\": \"R\"}, {\"type\": \"Movie\", \"rating\": \"R\"}, {\"type\": \"Movie\", \"rating\": \"R\"}, {\"type\": \"Movie\", \"rating\": \"R\"}, {\"type\": \"Movie\", \"rating\": \"R\"}, {\"type\": \"Movie\", \"rating\": \"R\"}, {\"type\": \"Movie\", \"rating\": \"R\"}, {\"type\": \"Movie\", \"rating\": \"R\"}, {\"type\": \"Movie\", \"rating\": \"R\"}, {\"type\": \"Movie\", \"rating\": \"R\"}, {\"type\": \"Movie\", \"rating\": \"R\"}, {\"type\": \"Movie\", \"rating\": \"R\"}, {\"type\": \"Movie\", \"rating\": \"NC-17\"}, {\"type\": \"Movie\", \"rating\": \"NC-17\"}]}}, {\"mode\": \"vega-lite\"});\n",
              "</script>"
            ],
            "text/plain": [
              "alt.Chart(...)"
            ]
          },
          "metadata": {},
          "execution_count": 43
        }
      ],
      "source": [
        "# Use Altair to create a bar chart comparing the count of each movie rating\n",
        "alt.Chart(onlyMovieData).mark_point().encode(\n",
        "    x='rating',\n",
        "    y='count(rating)'\n",
        ")"
      ]
    },
    {
      "cell_type": "markdown",
      "metadata": {
        "id": "z4Uz_X1QDivG"
      },
      "source": [
        "\n",
        "### Seaborn\n",
        "While Altair uses a \"declarative\" syntax for building charts piece by piece, the Seaborn library provides a large variety of pre-made charts for common statistical needs.\n",
        "\n",
        "These charts are divided into different categories. Each category has a high-level interface you can use for simplicity, and then a specific function for each chart that you can use if you need more control over how the chart looks.\n",
        "\n",
        "Seaborn uses matplotlib for its drawing, and the chart-specific functions each return a matplitlib axes object if you need additional customization.\n",
        "\n",
        "For example, there are several different types of categorical plots in seaborn: bar plots, box plots, point plots, count plots, swarm plots, etc...\n",
        "\n",
        "Each of these plots can be accessed using the `catplot` function.\n",
        "\n",
        "Assume we have a pandas dataframe called `employees`, with three columns: `name`, `job`, `salary`.\n",
        "\n",
        "    # Make a box plot style categorical plot showing the distribution of salaries for each job:\n",
        "    sns.catplot(data=employees, x='job', y='salary', kind='box')\n",
        "\n",
        "    # Make a swarm plot style categorical plot\n",
        "    sns.catplot(data=employees, x='job', y='salary', kind='swarm')\n",
        "\n",
        "Alternatively, you can use the plot specific functions to give yourself more control over the output by using matplotlib functions:\n",
        "\n",
        "    # Make a box plot style categorical plot, and customize the results\n",
        "    import matplotlib.pyplot as plt\n",
        "\n",
        "    plt.figure(figsize=(12, 9))\n",
        "    ax = sns.boxplot(data=employees, x='job', y='salary')\n",
        "    ax.set_title(\"Salaries by Job Title\")\n",
        "    ax.set_ylabel(\"Annual salary in thousands of $USD\")\n",
        "    ax.set_xlabel(\"Job title\")\n",
        "    "
      ]
    },
    {
      "cell_type": "markdown",
      "metadata": {
        "id": "fW3CV6KTIcxb"
      },
      "source": [
        "Like with Pandas, there is a [conventional way to import Seaborn](https://seaborn.pydata.org/tutorial/relational.html) into your projects.\n",
        "\n",
        "Optionally, you may wish to set some default chart aesthetics by [setting the chart style](https://seaborn.pydata.org/tutorial/aesthetics.html)."
      ]
    },
    {
      "cell_type": "code",
      "execution_count": 46,
      "metadata": {
        "id": "6UZKj1yMXTYg",
        "vscode": {
          "languageId": "python"
        }
      },
      "outputs": [],
      "source": [
        "# Import the seaborn library the conventional way. Then optionally configure\n",
        "# the default chart style.\n",
        "import seaborn as sns"
      ]
    },
    {
      "cell_type": "markdown",
      "metadata": {
        "id": "AWlh7ipsXaYM"
      },
      "source": [
        "Since the `rating` column uses categorical data, we need to use Seaborn's [categorical visualizations](https://seaborn.pydata.org/tutorial/categorical.html).\n",
        "\n",
        "In particular, we want a \"count plot\" that will display a count of movie ratings.\n",
        "\n"
      ]
    },
    {
      "cell_type": "code",
      "execution_count": 59,
      "metadata": {
        "id": "-T6xRLvAYJIf",
        "vscode": {
          "languageId": "python"
        },
        "colab": {
          "base_uri": "https://localhost:8080/",
          "height": 524
        },
        "outputId": "b7626928-eaf1-4add-8e7a-c766652defd5"
      },
      "outputs": [
        {
          "output_type": "execute_result",
          "data": {
            "text/plain": [
              "<seaborn.axisgrid.FacetGrid at 0x79c37fcc1c50>"
            ]
          },
          "metadata": {},
          "execution_count": 59
        },
        {
          "output_type": "display_data",
          "data": {
            "text/plain": [
              "<Figure size 511.111x500 with 1 Axes>"
            ],
            "image/png": "[encoded data removed]"
          },
          "metadata": {}
        }
      ],
      "source": [
        "# Use seaborn to create a count plot comparing the count of each movie rating\n",
        "sns.catplot(data=onlyMovieData, x='rating', kind='count')"
      ]
    },
    {
      "cell_type": "markdown",
      "metadata": {
        "id": "HWUrbz38L_1X"
      },
      "source": [
        "### Pandas built-in plotting\n",
        "In addition to libraries like Altair and Seaborn, Pandas has some [built in charting functionality](https://pandas.pydata.org/docs/getting_started/intro_tutorials/04_plotting.html).\n",
        "\n",
        "While not as sophisticated as some of the other options, it is often good enough for quick visualizations.\n",
        "\n",
        "Just like with seaborn's plotting functions, the pandas plotting functions return matplotlib axes objects, which can be further customized.\n",
        "\n",
        "Assume we have a pandas dataframe called `employees`, with three columns: `name`, `job`, `salary`.\n",
        "\n",
        "    # Make a box plot style categorical plot showing the distribution of salaries for each job:\n",
        "    employees[ ['job','salary'] ].plot.box()\n",
        "\n",
        "    # Make a box plot style categorical plot, and customize the results\n",
        "    import matplotlib.pyplot as plt\n",
        "\n",
        "    plt.figure(figsize=(12, 9))\n",
        "    ax = employees[ ['job','salary'] ].plot().box()\n",
        "    ax.set_title(\"Salaries by Job Title\")\n",
        "    ax.set_ylabel(\"Annual salary in thousands of $USD\")\n",
        "    ax.set_xlabel(\"Job title\")\n"
      ]
    },
    {
      "cell_type": "code",
      "execution_count": 65,
      "metadata": {
        "id": "Y0PW4s0LNjld",
        "vscode": {
          "languageId": "python"
        },
        "colab": {
          "base_uri": "https://localhost:8080/",
          "height": 812
        },
        "outputId": "c408c233-b06c-4caa-a8b0-b1df2c2b4475"
      },
      "outputs": [
        {
          "output_type": "execute_result",
          "data": {
            "text/plain": [
              "Text(0.5, 0, 'Rating')"
            ]
          },
          "metadata": {},
          "execution_count": 65
        },
        {
          "output_type": "display_data",
          "data": {
            "text/plain": [
              "<Figure size 1200x900 with 1 Axes>"
            ],
            "image/png": "[encoded data removed]"
          },
          "metadata": {}
        }
      ],
      "source": [
        "# Use pandas' built in plotting functions to create a count plot comparing the count of each movie rating\n",
        "# This will be a little trickier than the other libraries, but one hint is that the pandas value_counts() function\n",
        "# actually returns a dataframe.\n",
        "\n",
        "import matplotlib.pyplot as plt\n",
        "\n",
        "plt.figure(figsize=(12, 9))\n",
        "countsByRating = onlyMovieData['rating'].value_counts().sort_index()\n",
        "ax = countsByRating.plot()\n",
        "ax.set_title(\"Movie Count by Rating\")\n",
        "ax.set_ylabel(\"# of Movies\")\n",
        "ax.set_xlabel(\"Rating\")"
      ]
    },
    {
      "cell_type": "markdown",
      "metadata": {
        "id": "7EA2lAfbYRAc"
      },
      "source": [
        "# Part 5: Interpretation and Conclusions\n",
        "\n",
        "Now that you've seen the data, what is your conclusion? Is the watchdog group\n",
        "correct that Netflix has more movies for adults than for children? Are there any\n",
        "caveats you'd include in your analysis?"
      ]
    },
    {
      "cell_type": "markdown",
      "metadata": {
        "id": "EMBvHrExYr24"
      },
      "source": [
        "Write your summary here:\n",
        "The watchdog group is correct, there are significantly more movies for adults than children. If one considers PG to be the maximum rating for a childrens movie then the number of adult movies constitute almost 80% of the movies on netflix. The onmly caveat that I would iclude here is that this assumes that moview that were rated PG-13 are more suited for adults and count towards that metric.\n",
        "\n"
      ]
    },
    {
      "cell_type": "markdown",
      "metadata": {
        "id": "3tOuwFOZYvVP"
      },
      "source": [
        "## 🌟 Above and Beyond 🌟\n",
        "\n",
        "After reviewing your findings, the watchdog group would like some additional questions answered:\n",
        "\n",
        "1. How are things affected if you include the \"made for TV movies\" that have been assigned [TV ratings](https://en.wikipedia.org/wiki/Television_content_rating_system#United_States) in your analysis, but still exclude unrated movies?\n",
        "\n",
        "2. They would also like to see a separate report that includes only TV shows.\n",
        "\n",
        "3. For an upcoming community meeting, the group would like to present a simple\n",
        "chart showing \"For Kids\" and \"For Adults\" categories. The easiest way to accomplish this would be to [create a new column in your data frame that maps](https://pandas.pydata.org/docs/getting_started/intro_tutorials/10_text_data.html) each rating to the appropriate \"For Kids\" or \"For Adults\" label, then create a new visualization based on that column."
      ]
    },
    {
      "cell_type": "code",
      "source": [
        "onlyTVData = cleanedData.loc[theData['type'] != \"Movie\"]\n",
        "distinctTVRatings = onlyTVData['rating'].unique()\n",
        "desiredTVRatings = ['TV-Y7-FV', 'TV-Y7', 'TY-Y', 'TV-G', 'TV-PG', 'TV-14', 'TV-MA']\n",
        "onlyTVData = onlyTVData.loc[onlyTVData['rating'].isin(desiredTVRatings)]\n",
        "onlyTVData['rating'] = pd.Categorical(onlyTVData['rating'], categories=desiredTVRatings, ordered=True)\n",
        "onlyTVData = onlyTVData.sort_values('rating')\n",
        "\n",
        "import seaborn as sns\n",
        "sns.catplot(data=onlyTVData, x='rating', kind='count')"
      ],
      "metadata": {
        "id": "8d_nP-hqneRi",
        "outputId": "548b3554-1621-41d1-946d-6c7a7fe395cb",
        "colab": {
          "base_uri": "https://localhost:8080/",
          "height": 523
        }
      },
      "execution_count": 69,
      "outputs": [
        {
          "output_type": "execute_result",
          "data": {
            "text/plain": [
              "<seaborn.axisgrid.FacetGrid at 0x79c38798ac10>"
            ]
          },
          "metadata": {},
          "execution_count": 69
        },
        {
          "output_type": "display_data",
          "data": {
            "text/plain": [
              "<Figure size 511.111x500 with 1 Axes>"
            ],
            "image/png": "[encoded data removed]"
          },
          "metadata": {}
        }
      ]
    }
  ],
  "metadata": {
    "colab": {
      "name": "Exploration-01.ipynb",
      "provenance": []
    },
    "kernelspec": {
      "display_name": "Python 3",
      "name": "python3"
    }
  },
  "nbformat": 4,
  "nbformat_minor": 0
}